{
  "cells": [
    {
      "cell_type": "markdown",
      "metadata": {
        "id": "view-in-github",
        "colab_type": "text"
      },
      "source": [
        "<a href=\"https://colab.research.google.com/github/LilChucky/comparison-between-dnn-and-cnn-on-mnist/blob/main/ComparingBasicNNArchitectures.ipynb\" target=\"_parent\"><img src=\"https://colab.research.google.com/assets/colab-badge.svg\" alt=\"Open In Colab\"/></a>"
      ]
    },
    {
      "cell_type": "code",
      "execution_count": null,
      "metadata": {
        "id": "IMzjwXVZB8BI"
      },
      "outputs": [],
      "source": [
        "# TODO plots for val losses on both notebooks"
      ]
    },
    {
      "cell_type": "code",
      "execution_count": null,
      "metadata": {
        "id": "o35ta-8MCA80"
      },
      "outputs": [],
      "source": [
        "# importing the libraries (some are necessary)\n",
        "from tensorflow import keras\n",
        "from keras.metrics import AUC, Accuracy, Precision, Recall\n",
        "from keras.datasets import mnist\n",
        "from keras.models import Sequential\n",
        "from keras.layers import Dense, Dropout, Flatten\n",
        "from keras.layers import Conv2D, MaxPooling2D\n",
        "from keras.utils import np_utils"
      ]
    },
    {
      "cell_type": "code",
      "execution_count": null,
      "metadata": {
        "id": "lAL8yGzSXChg"
      },
      "outputs": [],
      "source": [
        "import numpy as np\n",
        "import matplotlib.pyplot as plt\n",
        "from sklearn.model_selection import train_test_split\n",
        "from sklearn import metrics\n",
        "from keras.utils import to_categorical\n",
        "from sklearn.metrics import accuracy_score\n",
        "from sklearn.metrics import recall_score\n",
        "from sklearn.metrics import precision_score\n",
        "from sklearn.metrics import roc_auc_score\n",
        "\n",
        "from sklearn.model_selection import KFold, StratifiedKFold\n",
        "import pandas as pd"
      ]
    },
    {
      "cell_type": "code",
      "execution_count": null,
      "metadata": {
        "colab": {
          "base_uri": "https://localhost:8080/"
        },
        "id": "SsB2fwyxChCv",
        "outputId": "3180ca52-dd9e-4bab-c801-081c0821b8b8"
      },
      "outputs": [
        {
          "name": "stdout",
          "output_type": "stream",
          "text": [
            "Downloading data from https://storage.googleapis.com/tensorflow/tf-keras-datasets/mnist.npz\n",
            "11490434/11490434 [==============================] - 0s 0us/step\n",
            "[5 0 4 ... 5 6 8]\n"
          ]
        }
      ],
      "source": [
        "#load the data\n",
        "# the data, split between train and test sets\n",
        "(x_train, y_train), (x_test, y_test) = mnist.load_data()\n",
        "print(y_train)"
      ]
    },
    {
      "cell_type": "code",
      "execution_count": null,
      "metadata": {
        "id": "pjNEdFvMChoZ"
      },
      "outputs": [],
      "source": [
        "#we are talking about RBG (gray here) images. Normalization is easy\n",
        "x_train = x_train / 255\n",
        "x_test = x_test/255"
      ]
    },
    {
      "cell_type": "code",
      "execution_count": null,
      "metadata": {
        "id": "mAuJPC7TcYSE"
      },
      "outputs": [],
      "source": [
        "# x_train, x_val, y_train, y_val =\\\n",
        "#  train_test_split(x_train, y_train, test_size=0.1, random_state=1)"
      ]
    },
    {
      "cell_type": "code",
      "execution_count": null,
      "metadata": {
        "colab": {
          "base_uri": "https://localhost:8080/",
          "height": 450
        },
        "id": "cUfYfAkCZKYi",
        "outputId": "e628ff93-3017-4c6e-caf1-e6b15221417b"
      },
      "outputs": [
        {
          "data": {
            "image/png": "[encoded data removed]",
            "text/plain": [
              "<Figure size 640x480 with 9 Axes>"
            ]
          },
          "metadata": {},
          "output_type": "display_data"
        },
        {
          "name": "stdout",
          "output_type": "stream",
          "text": [
            "5\n"
          ]
        }
      ],
      "source": [
        "# plot 9 images as gray scale\n",
        "plt.subplot(331)\n",
        "plt.imshow(x_train[1000], cmap=plt.get_cmap('gray'))\n",
        "plt.subplot(332)\n",
        "plt.imshow(x_train[1], cmap=plt.get_cmap('gray'))\n",
        "plt.subplot(333)\n",
        "plt.imshow(x_train[2], cmap=plt.get_cmap('gray'))\n",
        "plt.subplot(334)\n",
        "plt.imshow(x_train[3], cmap=plt.get_cmap('gray'))\n",
        "plt.subplot(335)\n",
        "plt.imshow(x_train[4], cmap=plt.get_cmap('gray'))\n",
        "plt.subplot(336)\n",
        "plt.imshow(x_train[5], cmap=plt.get_cmap('gray'))\n",
        "plt.subplot(337)\n",
        "plt.imshow(x_train[6], cmap=plt.get_cmap('gray'))\n",
        "plt.subplot(338)\n",
        "plt.imshow(x_train[7], cmap=plt.get_cmap('gray'))\n",
        "plt.subplot(339)\n",
        "plt.imshow(x_train[8], cmap=plt.get_cmap('gray'))\n",
        "# show the plot\n",
        "plt.show()\n",
        "plt.pause(4)\n",
        "print(y_train[0])"
      ]
    },
    {
      "cell_type": "code",
      "execution_count": null,
      "metadata": {
        "colab": {
          "base_uri": "https://localhost:8080/"
        },
        "id": "rxhEAEQ-ZKlc",
        "outputId": "6b91e321-6d81-4b78-fb76-57b72c9c2338"
      },
      "outputs": [
        {
          "name": "stdout",
          "output_type": "stream",
          "text": [
            "Input data (train) shape is: (60000, 28, 28)\n",
            "Input data (test) shape is: (10000, 28, 28)\n",
            "Output data (train) shape is: (60000,)\n",
            "Output data (test) shape is: (10000,)\n",
            "Train set has the following classes: [0 1 2 3 4 5 6 7 8 9]\n",
            "Test set has the following classes: [0 1 2 3 4 5 6 7 8 9]\n"
          ]
        }
      ],
      "source": [
        "#do some informative plotting\n",
        "print('Input data (train) shape is:', x_train.shape)\n",
        "print('Input data (test) shape is:', x_test.shape)\n",
        "# print('Input data (validation) shape is:', x_val.shape)\n",
        "\n",
        "print('Output data (train) shape is:', y_train.shape)\n",
        "print('Output data (test) shape is:', y_test.shape)\n",
        "# print('Output data (validation) shape is:', y_val.shape)\n",
        "\n",
        "print('Train set has the following classes:', np.unique(y_train))\n",
        "print('Test set has the following classes:', np.unique(y_test))"
      ]
    },
    {
      "cell_type": "code",
      "execution_count": null,
      "metadata": {
        "id": "EDuXTGlXZKo0"
      },
      "outputs": [],
      "source": [
        "# do a one-hot-encoding for the outputs\n",
        "y_train = keras.utils.to_categorical(y_train, 10)\n",
        "y_test = keras.utils.to_categorical(y_test, 10)\n",
        "# y_val = keras.utils.to_categorical(y_val, 10)"
      ]
    },
    {
      "cell_type": "code",
      "execution_count": null,
      "metadata": {
        "colab": {
          "base_uri": "https://localhost:8080/"
        },
        "id": "CvZwPBOaZKro",
        "outputId": "6da1763a-dd83-461c-ad8b-93c92bf4f801"
      },
      "outputs": [
        {
          "name": "stdout",
          "output_type": "stream",
          "text": [
            "1.0\n",
            "0.0\n"
          ]
        }
      ],
      "source": [
        "#check the outputs' range (just to be sure)\n",
        "print(np.max(x_train))\n",
        "print(np.min(x_train))"
      ]
    },
    {
      "cell_type": "code",
      "execution_count": null,
      "metadata": {
        "id": "3knz0iBzO7B0"
      },
      "outputs": [],
      "source": [
        "# The CNN architecture\n",
        "def cnnet():\n",
        "  model = Sequential()\n",
        "  model.add(keras.Input(shape=(28,28,1)))\n",
        "  model.add(Conv2D(32, kernel_size=(3, 3), activation='relu'))\n",
        "  model.add(MaxPooling2D(pool_size=(2, 2)))\n",
        "  model.add(Conv2D(64, kernel_size=(3, 3), activation='relu'))\n",
        "  model.add(MaxPooling2D(pool_size=(2, 2)))\n",
        "  model.add(Flatten())\n",
        "  model.add(Dense(256, activation='relu'))\n",
        "  model.add(Dropout(0.5))\n",
        "  model.add(Dense(128, activation='relu'))\n",
        "  model.add(Dropout(0.5))\n",
        "  model.add(Dense(256, activation='relu'))\n",
        "  model.add(Dense(10, activation='softmax'))\n",
        "\n",
        "  return model"
      ]
    },
    {
      "cell_type": "code",
      "execution_count": null,
      "metadata": {
        "id": "oP720mvh3kva"
      },
      "outputs": [],
      "source": [
        "#DNN creating the model architecture\n",
        "def model_generator(predifined_input_dim = 784,\\\n",
        "              predefined_activation_func = 'relu',\\\n",
        "              predifined_activation_map = 'softmax',\\\n",
        "              predifined_output_num = 10 ):\n",
        "  net = keras.models.Sequential()\n",
        "  ##addig the hidden layers\n",
        "  net.add(keras.layers.Dense(12,input_dim = predifined_input_dim,\\\n",
        "                          activation=predefined_activation_func))\n",
        "  net.add(keras.layers.Dense(8,input_dim = predifined_input_dim,\\\n",
        "                          activation=predefined_activation_func))\n",
        "  net.add(keras.layers.Dropout(.1, input_shape=(784,) ))\n",
        "  net.add(keras.layers.Dense(8,input_dim = predifined_input_dim,\\\n",
        "                          activation=predefined_activation_func))\n",
        "  net.add(keras.layers.Dropout(.1, input_shape=(784,) ))\n",
        "  net.add(keras.layers.Dense(8,input_dim = predifined_input_dim,\\\n",
        "                          activation=predefined_activation_func))\n",
        "  #output layer\n",
        "  net.add(keras.layers.Dense(predifined_output_num,activation=\\\n",
        "                          predifined_activation_map))\n",
        "  return net"
      ]
    },
    {
      "cell_type": "code",
      "execution_count": null,
      "metadata": {
        "id": "GmA2S6P54qIk"
      },
      "outputs": [],
      "source": [
        "# Defining f1 score\n",
        "def F1Score(precision, recall):\n",
        "  return 2 * (precision * recall) / (precision + recall) if (precision, recall != 0) else 0"
      ]
    },
    {
      "cell_type": "code",
      "execution_count": null,
      "metadata": {
        "colab": {
          "base_uri": "https://localhost:8080/"
        },
        "id": "vgEfh-Dj07Lp",
        "outputId": "592bf915-0989-4d86-a7ec-9d32a34fdb69"
      },
      "outputs": [
        {
          "name": "stdout",
          "output_type": "stream",
          "text": [
            "------------------------------------------------------------------------\n",
            "Training for fold 1 ...\n",
            "Epoch 1/30\n",
            "432/432 [==============================] - 5s 6ms/step - loss: 0.3954 - auc_1: 0.9898 - accuracy: 0.8722 - precision_1: 0.9377 - recall_1: 0.8286 - val_loss: 0.0606 - val_auc_1: 0.9991 - val_accuracy: 0.9840 - val_precision_1: 0.9876 - val_recall_1: 0.9810\n",
            "Epoch 2/30\n",
            "432/432 [==============================] - 3s 7ms/step - loss: 0.1113 - auc_1: 0.9979 - accuracy: 0.9695 - precision_1: 0.9759 - recall_1: 0.9633 - val_loss: 0.0416 - val_auc_1: 0.9992 - val_accuracy: 0.9885 - val_precision_1: 0.9895 - val_recall_1: 0.9870\n",
            "Epoch 3/30\n",
            "432/432 [==============================] - 2s 5ms/step - loss: 0.0797 - auc_1: 0.9986 - accuracy: 0.9774 - precision_1: 0.9819 - recall_1: 0.9734 - val_loss: 0.0384 - val_auc_1: 0.9991 - val_accuracy: 0.9900 - val_precision_1: 0.9918 - val_recall_1: 0.9888\n",
            "Epoch 4/30\n",
            "432/432 [==============================] - 2s 5ms/step - loss: 0.0628 - auc_1: 0.9988 - accuracy: 0.9826 - precision_1: 0.9858 - recall_1: 0.9793 - val_loss: 0.0371 - val_auc_1: 0.9988 - val_accuracy: 0.9917 - val_precision_1: 0.9920 - val_recall_1: 0.9912\n",
            "Epoch 5/30\n",
            "432/432 [==============================] - 2s 5ms/step - loss: 0.0511 - auc_1: 0.9991 - accuracy: 0.9856 - precision_1: 0.9881 - recall_1: 0.9835 - val_loss: 0.0379 - val_auc_1: 0.9991 - val_accuracy: 0.9902 - val_precision_1: 0.9915 - val_recall_1: 0.9888\n",
            "Epoch 6/30\n",
            "432/432 [==============================] - 3s 6ms/step - loss: 0.0450 - auc_1: 0.9993 - accuracy: 0.9873 - precision_1: 0.9893 - recall_1: 0.9856 - val_loss: 0.0346 - val_auc_1: 0.9989 - val_accuracy: 0.9920 - val_precision_1: 0.9928 - val_recall_1: 0.9915\n",
            "Epoch 7/30\n",
            "432/432 [==============================] - 3s 7ms/step - loss: 0.0371 - auc_1: 0.9994 - accuracy: 0.9894 - precision_1: 0.9912 - recall_1: 0.9876 - val_loss: 0.0382 - val_auc_1: 0.9989 - val_accuracy: 0.9917 - val_precision_1: 0.9922 - val_recall_1: 0.9910\n",
            "Epoch 8/30\n",
            "432/432 [==============================] - 2s 5ms/step - loss: 0.0349 - auc_1: 0.9994 - accuracy: 0.9905 - precision_1: 0.9916 - recall_1: 0.9889 - val_loss: 0.0339 - val_auc_1: 0.9991 - val_accuracy: 0.9920 - val_precision_1: 0.9932 - val_recall_1: 0.9918\n",
            "Epoch 9/30\n",
            "432/432 [==============================] - 2s 5ms/step - loss: 0.0338 - auc_1: 0.9994 - accuracy: 0.9904 - precision_1: 0.9922 - recall_1: 0.9892 - val_loss: 0.0323 - val_auc_1: 0.9990 - val_accuracy: 0.9927 - val_precision_1: 0.9932 - val_recall_1: 0.9922\n",
            "Epoch 10/30\n",
            "432/432 [==============================] - 2s 5ms/step - loss: 0.0317 - auc_1: 0.9995 - accuracy: 0.9909 - precision_1: 0.9923 - recall_1: 0.9896 - val_loss: 0.0332 - val_auc_1: 0.9989 - val_accuracy: 0.9925 - val_precision_1: 0.9932 - val_recall_1: 0.9920\n",
            "Epoch 11/30\n",
            "432/432 [==============================] - 2s 5ms/step - loss: 0.0269 - auc_1: 0.9995 - accuracy: 0.9924 - precision_1: 0.9934 - recall_1: 0.9914 - val_loss: 0.0349 - val_auc_1: 0.9988 - val_accuracy: 0.9922 - val_precision_1: 0.9930 - val_recall_1: 0.9912\n",
            "Epoch 12/30\n",
            "432/432 [==============================] - 3s 6ms/step - loss: 0.0254 - auc_1: 0.9996 - accuracy: 0.9930 - precision_1: 0.9942 - recall_1: 0.9921 - val_loss: 0.0380 - val_auc_1: 0.9987 - val_accuracy: 0.9927 - val_precision_1: 0.9933 - val_recall_1: 0.9918\n",
            "Epoch 13/30\n",
            "432/432 [==============================] - 2s 6ms/step - loss: 0.0240 - auc_1: 0.9996 - accuracy: 0.9931 - precision_1: 0.9939 - recall_1: 0.9922 - val_loss: 0.0395 - val_auc_1: 0.9986 - val_accuracy: 0.9917 - val_precision_1: 0.9927 - val_recall_1: 0.9908\n",
            "Epoch 14/30\n",
            "432/432 [==============================] - 2s 5ms/step - loss: 0.0208 - auc_1: 0.9997 - accuracy: 0.9943 - precision_1: 0.9949 - recall_1: 0.9935 - val_loss: 0.0385 - val_auc_1: 0.9985 - val_accuracy: 0.9925 - val_precision_1: 0.9933 - val_recall_1: 0.9925\n",
            "Epoch 15/30\n",
            "432/432 [==============================] - 2s 5ms/step - loss: 0.0213 - auc_1: 0.9997 - accuracy: 0.9942 - precision_1: 0.9948 - recall_1: 0.9935 - val_loss: 0.0348 - val_auc_1: 0.9989 - val_accuracy: 0.9927 - val_precision_1: 0.9933 - val_recall_1: 0.9920\n",
            "Epoch 16/30\n",
            "432/432 [==============================] - 2s 5ms/step - loss: 0.0188 - auc_1: 0.9997 - accuracy: 0.9946 - precision_1: 0.9952 - recall_1: 0.9939 - val_loss: 0.0335 - val_auc_1: 0.9988 - val_accuracy: 0.9928 - val_precision_1: 0.9935 - val_recall_1: 0.9927\n",
            "Epoch 17/30\n",
            "432/432 [==============================] - 2s 6ms/step - loss: 0.0189 - auc_1: 0.9997 - accuracy: 0.9946 - precision_1: 0.9951 - recall_1: 0.9940 - val_loss: 0.0425 - val_auc_1: 0.9987 - val_accuracy: 0.9912 - val_precision_1: 0.9915 - val_recall_1: 0.9907\n",
            "Epoch 18/30\n",
            "432/432 [==============================] - 3s 6ms/step - loss: 0.0158 - auc_1: 0.9998 - accuracy: 0.9954 - precision_1: 0.9958 - recall_1: 0.9949 - val_loss: 0.0388 - val_auc_1: 0.9988 - val_accuracy: 0.9927 - val_precision_1: 0.9927 - val_recall_1: 0.9925\n",
            "Epoch 19/30\n",
            "432/432 [==============================] - 2s 5ms/step - loss: 0.0144 - auc_1: 0.9998 - accuracy: 0.9958 - precision_1: 0.9963 - recall_1: 0.9951 - val_loss: 0.0389 - val_auc_1: 0.9987 - val_accuracy: 0.9928 - val_precision_1: 0.9930 - val_recall_1: 0.9925\n",
            "Epoch 20/30\n",
            "432/432 [==============================] - 3s 6ms/step - loss: 0.0165 - auc_1: 0.9997 - accuracy: 0.9952 - precision_1: 0.9958 - recall_1: 0.9947 - val_loss: 0.0456 - val_auc_1: 0.9984 - val_accuracy: 0.9915 - val_precision_1: 0.9925 - val_recall_1: 0.9913\n",
            "Epoch 21/30\n",
            "432/432 [==============================] - 2s 6ms/step - loss: 0.0159 - auc_1: 0.9997 - accuracy: 0.9956 - precision_1: 0.9961 - recall_1: 0.9952 - val_loss: 0.0368 - val_auc_1: 0.9987 - val_accuracy: 0.9925 - val_precision_1: 0.9930 - val_recall_1: 0.9922\n",
            "Epoch 22/30\n",
            "432/432 [==============================] - 3s 6ms/step - loss: 0.0123 - auc_1: 0.9998 - accuracy: 0.9967 - precision_1: 0.9970 - recall_1: 0.9964 - val_loss: 0.0405 - val_auc_1: 0.9985 - val_accuracy: 0.9928 - val_precision_1: 0.9930 - val_recall_1: 0.9923\n",
            "Epoch 23/30\n",
            "432/432 [==============================] - 2s 6ms/step - loss: 0.0129 - auc_1: 0.9998 - accuracy: 0.9965 - precision_1: 0.9968 - recall_1: 0.9962 - val_loss: 0.0393 - val_auc_1: 0.9983 - val_accuracy: 0.9938 - val_precision_1: 0.9942 - val_recall_1: 0.9932\n",
            "Epoch 24/30\n",
            "432/432 [==============================] - 2s 5ms/step - loss: 0.0129 - auc_1: 0.9998 - accuracy: 0.9964 - precision_1: 0.9967 - recall_1: 0.9960 - val_loss: 0.0486 - val_auc_1: 0.9982 - val_accuracy: 0.9912 - val_precision_1: 0.9915 - val_recall_1: 0.9907\n",
            "Epoch 25/30\n",
            "432/432 [==============================] - 2s 5ms/step - loss: 0.0133 - auc_1: 0.9997 - accuracy: 0.9962 - precision_1: 0.9966 - recall_1: 0.9958 - val_loss: 0.0491 - val_auc_1: 0.9983 - val_accuracy: 0.9915 - val_precision_1: 0.9920 - val_recall_1: 0.9913\n",
            "Epoch 26/30\n",
            "432/432 [==============================] - 2s 5ms/step - loss: 0.0123 - auc_1: 0.9998 - accuracy: 0.9963 - precision_1: 0.9967 - recall_1: 0.9959 - val_loss: 0.0478 - val_auc_1: 0.9981 - val_accuracy: 0.9917 - val_precision_1: 0.9918 - val_recall_1: 0.9915\n",
            "Epoch 27/30\n",
            "432/432 [==============================] - 3s 6ms/step - loss: 0.0107 - auc_1: 0.9998 - accuracy: 0.9969 - precision_1: 0.9971 - recall_1: 0.9967 - val_loss: 0.0487 - val_auc_1: 0.9980 - val_accuracy: 0.9928 - val_precision_1: 0.9932 - val_recall_1: 0.9925\n",
            "Epoch 28/30\n",
            "432/432 [==============================] - 3s 6ms/step - loss: 0.0123 - auc_1: 0.9998 - accuracy: 0.9963 - precision_1: 0.9968 - recall_1: 0.9960 - val_loss: 0.0489 - val_auc_1: 0.9984 - val_accuracy: 0.9913 - val_precision_1: 0.9918 - val_recall_1: 0.9910\n",
            "Epoch 29/30\n",
            "432/432 [==============================] - 2s 5ms/step - loss: 0.0107 - auc_1: 0.9998 - accuracy: 0.9966 - precision_1: 0.9969 - recall_1: 0.9964 - val_loss: 0.0414 - val_auc_1: 0.9983 - val_accuracy: 0.9930 - val_precision_1: 0.9933 - val_recall_1: 0.9930\n",
            "Epoch 30/30\n",
            "432/432 [==============================] - 2s 5ms/step - loss: 0.0096 - auc_1: 0.9998 - accuracy: 0.9975 - precision_1: 0.9978 - recall_1: 0.9972 - val_loss: 0.0465 - val_auc_1: 0.9984 - val_accuracy: 0.9923 - val_precision_1: 0.9923 - val_recall_1: 0.9918\n",
            "Score for fold 1: loss of 0.005281094927340746; auc_1 of 99.9858021736145%\n",
            "------------------------------------------------------------------------\n",
            "Training for fold 2 ...\n",
            "Epoch 1/30\n",
            "432/432 [==============================] - 6s 6ms/step - loss: 0.3940 - auc_2: 0.9898 - accuracy: 0.8718 - precision_2: 0.9388 - recall_2: 0.8296 - val_loss: 0.0556 - val_auc_2: 0.9992 - val_accuracy: 0.9838 - val_precision_2: 0.9866 - val_recall_2: 0.9807\n",
            "Epoch 2/30\n",
            "432/432 [==============================] - 2s 5ms/step - loss: 0.1054 - auc_2: 0.9980 - accuracy: 0.9705 - precision_2: 0.9767 - recall_2: 0.9643 - val_loss: 0.0405 - val_auc_2: 0.9991 - val_accuracy: 0.9888 - val_precision_2: 0.9906 - val_recall_2: 0.9875\n",
            "Epoch 3/30\n",
            "432/432 [==============================] - 2s 5ms/step - loss: 0.0747 - auc_2: 0.9988 - accuracy: 0.9794 - precision_2: 0.9833 - recall_2: 0.9756 - val_loss: 0.0413 - val_auc_2: 0.9991 - val_accuracy: 0.9887 - val_precision_2: 0.9906 - val_recall_2: 0.9873\n",
            "Epoch 4/30\n",
            "432/432 [==============================] - 2s 5ms/step - loss: 0.0607 - auc_2: 0.9990 - accuracy: 0.9835 - precision_2: 0.9864 - recall_2: 0.9804 - val_loss: 0.0357 - val_auc_2: 0.9991 - val_accuracy: 0.9898 - val_precision_2: 0.9911 - val_recall_2: 0.9887\n",
            "Epoch 5/30\n",
            "432/432 [==============================] - 3s 7ms/step - loss: 0.0539 - auc_2: 0.9991 - accuracy: 0.9851 - precision_2: 0.9878 - recall_2: 0.9826 - val_loss: 0.0377 - val_auc_2: 0.9988 - val_accuracy: 0.9912 - val_precision_2: 0.9917 - val_recall_2: 0.9903\n",
            "Epoch 6/30\n",
            "432/432 [==============================] - 2s 5ms/step - loss: 0.0458 - auc_2: 0.9991 - accuracy: 0.9874 - precision_2: 0.9895 - recall_2: 0.9853 - val_loss: 0.0341 - val_auc_2: 0.9994 - val_accuracy: 0.9910 - val_precision_2: 0.9928 - val_recall_2: 0.9905\n",
            "Epoch 7/30\n",
            "432/432 [==============================] - 2s 5ms/step - loss: 0.0384 - auc_2: 0.9994 - accuracy: 0.9893 - precision_2: 0.9911 - recall_2: 0.9876 - val_loss: 0.0381 - val_auc_2: 0.9986 - val_accuracy: 0.9910 - val_precision_2: 0.9917 - val_recall_2: 0.9905\n",
            "Epoch 8/30\n",
            "432/432 [==============================] - 2s 5ms/step - loss: 0.0342 - auc_2: 0.9994 - accuracy: 0.9903 - precision_2: 0.9916 - recall_2: 0.9889 - val_loss: 0.0350 - val_auc_2: 0.9988 - val_accuracy: 0.9913 - val_precision_2: 0.9923 - val_recall_2: 0.9908\n",
            "Epoch 9/30\n",
            "432/432 [==============================] - 2s 5ms/step - loss: 0.0320 - auc_2: 0.9995 - accuracy: 0.9911 - precision_2: 0.9922 - recall_2: 0.9897 - val_loss: 0.0308 - val_auc_2: 0.9991 - val_accuracy: 0.9925 - val_precision_2: 0.9930 - val_recall_2: 0.9920\n",
            "Epoch 10/30\n",
            "432/432 [==============================] - 3s 7ms/step - loss: 0.0292 - auc_2: 0.9995 - accuracy: 0.9916 - precision_2: 0.9928 - recall_2: 0.9906 - val_loss: 0.0349 - val_auc_2: 0.9988 - val_accuracy: 0.9923 - val_precision_2: 0.9930 - val_recall_2: 0.9918\n",
            "Epoch 11/30\n",
            "432/432 [==============================] - 2s 5ms/step - loss: 0.0272 - auc_2: 0.9995 - accuracy: 0.9921 - precision_2: 0.9936 - recall_2: 0.9910 - val_loss: 0.0369 - val_auc_2: 0.9989 - val_accuracy: 0.9920 - val_precision_2: 0.9922 - val_recall_2: 0.9913\n",
            "Epoch 12/30\n",
            "432/432 [==============================] - 2s 5ms/step - loss: 0.0258 - auc_2: 0.9995 - accuracy: 0.9930 - precision_2: 0.9940 - recall_2: 0.9920 - val_loss: 0.0335 - val_auc_2: 0.9990 - val_accuracy: 0.9932 - val_precision_2: 0.9940 - val_recall_2: 0.9923\n",
            "Epoch 13/30\n",
            "432/432 [==============================] - 2s 5ms/step - loss: 0.0234 - auc_2: 0.9996 - accuracy: 0.9932 - precision_2: 0.9940 - recall_2: 0.9926 - val_loss: 0.0342 - val_auc_2: 0.9989 - val_accuracy: 0.9925 - val_precision_2: 0.9930 - val_recall_2: 0.9922\n",
            "Epoch 14/30\n",
            "432/432 [==============================] - 2s 5ms/step - loss: 0.0208 - auc_2: 0.9996 - accuracy: 0.9941 - precision_2: 0.9946 - recall_2: 0.9933 - val_loss: 0.0433 - val_auc_2: 0.9987 - val_accuracy: 0.9907 - val_precision_2: 0.9917 - val_recall_2: 0.9907\n",
            "Epoch 15/30\n",
            "432/432 [==============================] - 3s 7ms/step - loss: 0.0224 - auc_2: 0.9996 - accuracy: 0.9939 - precision_2: 0.9947 - recall_2: 0.9930 - val_loss: 0.0318 - val_auc_2: 0.9986 - val_accuracy: 0.9938 - val_precision_2: 0.9945 - val_recall_2: 0.9933\n",
            "Epoch 16/30\n",
            "432/432 [==============================] - 2s 5ms/step - loss: 0.0180 - auc_2: 0.9997 - accuracy: 0.9947 - precision_2: 0.9954 - recall_2: 0.9942 - val_loss: 0.0407 - val_auc_2: 0.9984 - val_accuracy: 0.9927 - val_precision_2: 0.9930 - val_recall_2: 0.9923\n",
            "Epoch 17/30\n",
            "432/432 [==============================] - 2s 5ms/step - loss: 0.0186 - auc_2: 0.9998 - accuracy: 0.9942 - precision_2: 0.9950 - recall_2: 0.9938 - val_loss: 0.0391 - val_auc_2: 0.9986 - val_accuracy: 0.9930 - val_precision_2: 0.9930 - val_recall_2: 0.9925\n",
            "Epoch 18/30\n",
            "432/432 [==============================] - 2s 5ms/step - loss: 0.0159 - auc_2: 0.9997 - accuracy: 0.9952 - precision_2: 0.9958 - recall_2: 0.9948 - val_loss: 0.0407 - val_auc_2: 0.9988 - val_accuracy: 0.9923 - val_precision_2: 0.9923 - val_recall_2: 0.9920\n",
            "Epoch 19/30\n",
            "432/432 [==============================] - 2s 5ms/step - loss: 0.0149 - auc_2: 0.9998 - accuracy: 0.9956 - precision_2: 0.9961 - recall_2: 0.9951 - val_loss: 0.0363 - val_auc_2: 0.9990 - val_accuracy: 0.9920 - val_precision_2: 0.9932 - val_recall_2: 0.9917\n",
            "Epoch 20/30\n",
            "432/432 [==============================] - 3s 7ms/step - loss: 0.0153 - auc_2: 0.9997 - accuracy: 0.9956 - precision_2: 0.9960 - recall_2: 0.9952 - val_loss: 0.0392 - val_auc_2: 0.9984 - val_accuracy: 0.9928 - val_precision_2: 0.9935 - val_recall_2: 0.9927\n",
            "Epoch 21/30\n",
            "432/432 [==============================] - 2s 5ms/step - loss: 0.0138 - auc_2: 0.9998 - accuracy: 0.9958 - precision_2: 0.9963 - recall_2: 0.9955 - val_loss: 0.0362 - val_auc_2: 0.9985 - val_accuracy: 0.9935 - val_precision_2: 0.9937 - val_recall_2: 0.9935\n",
            "Epoch 22/30\n",
            "432/432 [==============================] - 2s 5ms/step - loss: 0.0158 - auc_2: 0.9997 - accuracy: 0.9956 - precision_2: 0.9961 - recall_2: 0.9951 - val_loss: 0.0459 - val_auc_2: 0.9980 - val_accuracy: 0.9918 - val_precision_2: 0.9922 - val_recall_2: 0.9918\n",
            "Epoch 23/30\n",
            "432/432 [==============================] - 2s 5ms/step - loss: 0.0119 - auc_2: 0.9998 - accuracy: 0.9965 - precision_2: 0.9969 - recall_2: 0.9961 - val_loss: 0.0472 - val_auc_2: 0.9983 - val_accuracy: 0.9925 - val_precision_2: 0.9928 - val_recall_2: 0.9923\n",
            "Epoch 24/30\n",
            "432/432 [==============================] - 2s 5ms/step - loss: 0.0105 - auc_2: 0.9999 - accuracy: 0.9969 - precision_2: 0.9971 - recall_2: 0.9967 - val_loss: 0.0408 - val_auc_2: 0.9985 - val_accuracy: 0.9937 - val_precision_2: 0.9940 - val_recall_2: 0.9935\n",
            "Epoch 25/30\n",
            "432/432 [==============================] - 3s 7ms/step - loss: 0.0141 - auc_2: 0.9997 - accuracy: 0.9959 - precision_2: 0.9963 - recall_2: 0.9956 - val_loss: 0.0387 - val_auc_2: 0.9987 - val_accuracy: 0.9927 - val_precision_2: 0.9928 - val_recall_2: 0.9923\n",
            "Epoch 26/30\n",
            "432/432 [==============================] - 2s 6ms/step - loss: 0.0125 - auc_2: 0.9998 - accuracy: 0.9964 - precision_2: 0.9966 - recall_2: 0.9961 - val_loss: 0.0388 - val_auc_2: 0.9985 - val_accuracy: 0.9932 - val_precision_2: 0.9937 - val_recall_2: 0.9928\n",
            "Epoch 27/30\n",
            "432/432 [==============================] - 2s 5ms/step - loss: 0.0120 - auc_2: 0.9998 - accuracy: 0.9968 - precision_2: 0.9971 - recall_2: 0.9965 - val_loss: 0.0343 - val_auc_2: 0.9988 - val_accuracy: 0.9943 - val_precision_2: 0.9943 - val_recall_2: 0.9938\n",
            "Epoch 28/30\n",
            "432/432 [==============================] - 2s 5ms/step - loss: 0.0099 - auc_2: 0.9999 - accuracy: 0.9969 - precision_2: 0.9973 - recall_2: 0.9967 - val_loss: 0.0375 - val_auc_2: 0.9985 - val_accuracy: 0.9938 - val_precision_2: 0.9940 - val_recall_2: 0.9937\n",
            "Epoch 29/30\n",
            "432/432 [==============================] - 2s 5ms/step - loss: 0.0107 - auc_2: 0.9998 - accuracy: 0.9970 - precision_2: 0.9971 - recall_2: 0.9967 - val_loss: 0.0573 - val_auc_2: 0.9979 - val_accuracy: 0.9915 - val_precision_2: 0.9918 - val_recall_2: 0.9912\n",
            "Epoch 30/30\n",
            "432/432 [==============================] - 3s 7ms/step - loss: 0.0104 - auc_2: 0.9998 - accuracy: 0.9971 - precision_2: 0.9974 - recall_2: 0.9968 - val_loss: 0.0438 - val_auc_2: 0.9981 - val_accuracy: 0.9937 - val_precision_2: 0.9937 - val_recall_2: 0.9935\n",
            "Score for fold 2: loss of 0.005503064952790737; auc_2 of 99.98049139976501%\n",
            "------------------------------------------------------------------------\n",
            "Training for fold 3 ...\n",
            "Epoch 1/30\n",
            "432/432 [==============================] - 6s 8ms/step - loss: 0.3974 - auc_3: 0.9895 - accuracy: 0.8728 - precision_3: 0.9396 - recall_3: 0.8301 - val_loss: 0.0563 - val_auc_3: 0.9987 - val_accuracy: 0.9842 - val_precision_3: 0.9873 - val_recall_3: 0.9822\n",
            "Epoch 2/30\n",
            "432/432 [==============================] - 2s 5ms/step - loss: 0.1116 - auc_3: 0.9979 - accuracy: 0.9679 - precision_3: 0.9742 - recall_3: 0.9615 - val_loss: 0.0470 - val_auc_3: 0.9991 - val_accuracy: 0.9865 - val_precision_3: 0.9880 - val_recall_3: 0.9847\n",
            "Epoch 3/30\n",
            "432/432 [==============================] - 2s 5ms/step - loss: 0.0796 - auc_3: 0.9986 - accuracy: 0.9780 - precision_3: 0.9819 - recall_3: 0.9736 - val_loss: 0.0385 - val_auc_3: 0.9992 - val_accuracy: 0.9895 - val_precision_3: 0.9908 - val_recall_3: 0.9887\n",
            "Epoch 4/30\n",
            "432/432 [==============================] - 2s 5ms/step - loss: 0.0645 - auc_3: 0.9989 - accuracy: 0.9816 - precision_3: 0.9851 - recall_3: 0.9787 - val_loss: 0.0418 - val_auc_3: 0.9992 - val_accuracy: 0.9880 - val_precision_3: 0.9896 - val_recall_3: 0.9877\n",
            "Epoch 5/30\n",
            "432/432 [==============================] - 3s 6ms/step - loss: 0.0560 - auc_3: 0.9991 - accuracy: 0.9843 - precision_3: 0.9872 - recall_3: 0.9817 - val_loss: 0.0444 - val_auc_3: 0.9989 - val_accuracy: 0.9882 - val_precision_3: 0.9888 - val_recall_3: 0.9880\n",
            "Epoch 6/30\n",
            "432/432 [==============================] - 3s 6ms/step - loss: 0.0459 - auc_3: 0.9992 - accuracy: 0.9872 - precision_3: 0.9892 - recall_3: 0.9849 - val_loss: 0.0314 - val_auc_3: 0.9994 - val_accuracy: 0.9913 - val_precision_3: 0.9922 - val_recall_3: 0.9910\n",
            "Epoch 7/30\n",
            "432/432 [==============================] - 2s 5ms/step - loss: 0.0394 - auc_3: 0.9994 - accuracy: 0.9890 - precision_3: 0.9907 - recall_3: 0.9873 - val_loss: 0.0416 - val_auc_3: 0.9986 - val_accuracy: 0.9905 - val_precision_3: 0.9912 - val_recall_3: 0.9900\n",
            "Epoch 8/30\n",
            "432/432 [==============================] - 2s 5ms/step - loss: 0.0371 - auc_3: 0.9994 - accuracy: 0.9894 - precision_3: 0.9911 - recall_3: 0.9879 - val_loss: 0.0362 - val_auc_3: 0.9991 - val_accuracy: 0.9915 - val_precision_3: 0.9928 - val_recall_3: 0.9910\n",
            "Epoch 9/30\n",
            "432/432 [==============================] - 2s 5ms/step - loss: 0.0320 - auc_3: 0.9995 - accuracy: 0.9911 - precision_3: 0.9924 - recall_3: 0.9898 - val_loss: 0.0361 - val_auc_3: 0.9987 - val_accuracy: 0.9917 - val_precision_3: 0.9928 - val_recall_3: 0.9915\n",
            "Epoch 10/30\n",
            "432/432 [==============================] - 3s 6ms/step - loss: 0.0290 - auc_3: 0.9995 - accuracy: 0.9917 - precision_3: 0.9926 - recall_3: 0.9904 - val_loss: 0.0416 - val_auc_3: 0.9985 - val_accuracy: 0.9897 - val_precision_3: 0.9905 - val_recall_3: 0.9892\n",
            "Epoch 11/30\n",
            "432/432 [==============================] - 3s 6ms/step - loss: 0.0267 - auc_3: 0.9996 - accuracy: 0.9923 - precision_3: 0.9935 - recall_3: 0.9912 - val_loss: 0.0420 - val_auc_3: 0.9986 - val_accuracy: 0.9903 - val_precision_3: 0.9908 - val_recall_3: 0.9895\n",
            "Epoch 12/30\n",
            "432/432 [==============================] - 2s 5ms/step - loss: 0.0271 - auc_3: 0.9995 - accuracy: 0.9927 - precision_3: 0.9936 - recall_3: 0.9916 - val_loss: 0.0402 - val_auc_3: 0.9987 - val_accuracy: 0.9917 - val_precision_3: 0.9920 - val_recall_3: 0.9912\n",
            "Epoch 13/30\n",
            "432/432 [==============================] - 2s 5ms/step - loss: 0.0229 - auc_3: 0.9996 - accuracy: 0.9933 - precision_3: 0.9943 - recall_3: 0.9925 - val_loss: 0.0396 - val_auc_3: 0.9987 - val_accuracy: 0.9918 - val_precision_3: 0.9922 - val_recall_3: 0.9917\n",
            "Epoch 14/30\n",
            "432/432 [==============================] - 2s 5ms/step - loss: 0.0196 - auc_3: 0.9996 - accuracy: 0.9944 - precision_3: 0.9951 - recall_3: 0.9936 - val_loss: 0.0337 - val_auc_3: 0.9990 - val_accuracy: 0.9918 - val_precision_3: 0.9927 - val_recall_3: 0.9913\n",
            "Epoch 15/30\n",
            "432/432 [==============================] - 3s 6ms/step - loss: 0.0194 - auc_3: 0.9997 - accuracy: 0.9944 - precision_3: 0.9952 - recall_3: 0.9937 - val_loss: 0.0407 - val_auc_3: 0.9984 - val_accuracy: 0.9910 - val_precision_3: 0.9918 - val_recall_3: 0.9905\n",
            "Epoch 16/30\n",
            "432/432 [==============================] - 3s 6ms/step - loss: 0.0219 - auc_3: 0.9996 - accuracy: 0.9936 - precision_3: 0.9945 - recall_3: 0.9927 - val_loss: 0.0363 - val_auc_3: 0.9986 - val_accuracy: 0.9923 - val_precision_3: 0.9928 - val_recall_3: 0.9922\n",
            "Epoch 17/30\n",
            "432/432 [==============================] - 2s 5ms/step - loss: 0.0198 - auc_3: 0.9997 - accuracy: 0.9946 - precision_3: 0.9953 - recall_3: 0.9940 - val_loss: 0.0382 - val_auc_3: 0.9986 - val_accuracy: 0.9925 - val_precision_3: 0.9932 - val_recall_3: 0.9917\n",
            "Epoch 18/30\n",
            "432/432 [==============================] - 2s 5ms/step - loss: 0.0180 - auc_3: 0.9997 - accuracy: 0.9949 - precision_3: 0.9956 - recall_3: 0.9944 - val_loss: 0.0404 - val_auc_3: 0.9987 - val_accuracy: 0.9927 - val_precision_3: 0.9932 - val_recall_3: 0.9925\n",
            "Epoch 19/30\n",
            "432/432 [==============================] - 2s 6ms/step - loss: 0.0161 - auc_3: 0.9998 - accuracy: 0.9956 - precision_3: 0.9961 - recall_3: 0.9951 - val_loss: 0.0438 - val_auc_3: 0.9984 - val_accuracy: 0.9923 - val_precision_3: 0.9925 - val_recall_3: 0.9923\n",
            "Epoch 20/30\n",
            "432/432 [==============================] - 3s 7ms/step - loss: 0.0140 - auc_3: 0.9998 - accuracy: 0.9958 - precision_3: 0.9961 - recall_3: 0.9953 - val_loss: 0.0466 - val_auc_3: 0.9984 - val_accuracy: 0.9915 - val_precision_3: 0.9915 - val_recall_3: 0.9912\n",
            "Epoch 21/30\n",
            "432/432 [==============================] - 3s 6ms/step - loss: 0.0158 - auc_3: 0.9997 - accuracy: 0.9953 - precision_3: 0.9959 - recall_3: 0.9948 - val_loss: 0.0449 - val_auc_3: 0.9984 - val_accuracy: 0.9918 - val_precision_3: 0.9923 - val_recall_3: 0.9918\n",
            "Epoch 22/30\n",
            "432/432 [==============================] - 2s 5ms/step - loss: 0.0120 - auc_3: 0.9999 - accuracy: 0.9963 - precision_3: 0.9968 - recall_3: 0.9959 - val_loss: 0.0456 - val_auc_3: 0.9983 - val_accuracy: 0.9928 - val_precision_3: 0.9932 - val_recall_3: 0.9927\n",
            "Epoch 23/30\n",
            "432/432 [==============================] - 2s 5ms/step - loss: 0.0149 - auc_3: 0.9997 - accuracy: 0.9958 - precision_3: 0.9963 - recall_3: 0.9955 - val_loss: 0.0366 - val_auc_3: 0.9985 - val_accuracy: 0.9933 - val_precision_3: 0.9938 - val_recall_3: 0.9930\n",
            "Epoch 24/30\n",
            "432/432 [==============================] - 2s 5ms/step - loss: 0.0127 - auc_3: 0.9998 - accuracy: 0.9964 - precision_3: 0.9968 - recall_3: 0.9961 - val_loss: 0.0354 - val_auc_3: 0.9987 - val_accuracy: 0.9927 - val_precision_3: 0.9932 - val_recall_3: 0.9923\n",
            "Epoch 25/30\n",
            "432/432 [==============================] - 3s 7ms/step - loss: 0.0114 - auc_3: 0.9998 - accuracy: 0.9965 - precision_3: 0.9969 - recall_3: 0.9962 - val_loss: 0.0366 - val_auc_3: 0.9989 - val_accuracy: 0.9930 - val_precision_3: 0.9933 - val_recall_3: 0.9930\n",
            "Epoch 26/30\n",
            "432/432 [==============================] - 3s 6ms/step - loss: 0.0101 - auc_3: 0.9998 - accuracy: 0.9970 - precision_3: 0.9972 - recall_3: 0.9966 - val_loss: 0.0440 - val_auc_3: 0.9985 - val_accuracy: 0.9925 - val_precision_3: 0.9927 - val_recall_3: 0.9922\n",
            "Epoch 27/30\n",
            "432/432 [==============================] - 2s 5ms/step - loss: 0.0118 - auc_3: 0.9998 - accuracy: 0.9966 - precision_3: 0.9968 - recall_3: 0.9963 - val_loss: 0.0487 - val_auc_3: 0.9984 - val_accuracy: 0.9905 - val_precision_3: 0.9917 - val_recall_3: 0.9902\n",
            "Epoch 28/30\n",
            "432/432 [==============================] - 2s 5ms/step - loss: 0.0115 - auc_3: 0.9998 - accuracy: 0.9967 - precision_3: 0.9970 - recall_3: 0.9964 - val_loss: 0.0411 - val_auc_3: 0.9983 - val_accuracy: 0.9933 - val_precision_3: 0.9935 - val_recall_3: 0.9930\n",
            "Epoch 29/30\n",
            "432/432 [==============================] - 2s 5ms/step - loss: 0.0102 - auc_3: 0.9998 - accuracy: 0.9971 - precision_3: 0.9974 - recall_3: 0.9969 - val_loss: 0.0416 - val_auc_3: 0.9984 - val_accuracy: 0.9935 - val_precision_3: 0.9935 - val_recall_3: 0.9932\n",
            "Epoch 30/30\n",
            "432/432 [==============================] - 3s 7ms/step - loss: 0.0088 - auc_3: 0.9999 - accuracy: 0.9973 - precision_3: 0.9976 - recall_3: 0.9971 - val_loss: 0.0463 - val_auc_3: 0.9983 - val_accuracy: 0.9923 - val_precision_3: 0.9925 - val_recall_3: 0.9920\n",
            "Score for fold 3: loss of 0.004999801050871611; auc_3 of 99.98669028282166%\n",
            "------------------------------------------------------------------------\n",
            "Training for fold 4 ...\n",
            "Epoch 1/30\n",
            "432/432 [==============================] - 5s 6ms/step - loss: 0.4071 - auc_4: 0.9890 - accuracy: 0.8674 - precision_4: 0.9370 - recall_4: 0.8226 - val_loss: 0.0498 - val_auc_4: 0.9994 - val_accuracy: 0.9855 - val_precision_4: 0.9886 - val_recall_4: 0.9838\n",
            "Epoch 2/30\n",
            "432/432 [==============================] - 2s 5ms/step - loss: 0.1082 - auc_4: 0.9979 - accuracy: 0.9699 - precision_4: 0.9764 - recall_4: 0.9634 - val_loss: 0.0445 - val_auc_4: 0.9992 - val_accuracy: 0.9868 - val_precision_4: 0.9883 - val_recall_4: 0.9860\n",
            "Epoch 3/30\n",
            "432/432 [==============================] - 2s 5ms/step - loss: 0.0767 - auc_4: 0.9985 - accuracy: 0.9793 - precision_4: 0.9835 - recall_4: 0.9751 - val_loss: 0.0388 - val_auc_4: 0.9992 - val_accuracy: 0.9888 - val_precision_4: 0.9908 - val_recall_4: 0.9875\n",
            "Epoch 4/30\n",
            "432/432 [==============================] - 3s 7ms/step - loss: 0.0607 - auc_4: 0.9990 - accuracy: 0.9831 - precision_4: 0.9862 - recall_4: 0.9801 - val_loss: 0.0415 - val_auc_4: 0.9991 - val_accuracy: 0.9890 - val_precision_4: 0.9900 - val_recall_4: 0.9882\n",
            "Epoch 5/30\n",
            "432/432 [==============================] - 2s 5ms/step - loss: 0.0524 - auc_4: 0.9990 - accuracy: 0.9858 - precision_4: 0.9879 - recall_4: 0.9834 - val_loss: 0.0363 - val_auc_4: 0.9991 - val_accuracy: 0.9893 - val_precision_4: 0.9908 - val_recall_4: 0.9887\n",
            "Epoch 6/30\n",
            "432/432 [==============================] - 2s 6ms/step - loss: 0.0472 - auc_4: 0.9992 - accuracy: 0.9865 - precision_4: 0.9892 - recall_4: 0.9845 - val_loss: 0.0381 - val_auc_4: 0.9989 - val_accuracy: 0.9898 - val_precision_4: 0.9915 - val_recall_4: 0.9892\n",
            "Epoch 7/30\n",
            "432/432 [==============================] - 2s 5ms/step - loss: 0.0401 - auc_4: 0.9993 - accuracy: 0.9892 - precision_4: 0.9909 - recall_4: 0.9874 - val_loss: 0.0299 - val_auc_4: 0.9993 - val_accuracy: 0.9913 - val_precision_4: 0.9928 - val_recall_4: 0.9905\n",
            "Epoch 8/30\n",
            "432/432 [==============================] - 2s 6ms/step - loss: 0.0350 - auc_4: 0.9994 - accuracy: 0.9905 - precision_4: 0.9918 - recall_4: 0.9891 - val_loss: 0.0357 - val_auc_4: 0.9990 - val_accuracy: 0.9902 - val_precision_4: 0.9912 - val_recall_4: 0.9895\n",
            "Epoch 9/30\n",
            "432/432 [==============================] - 3s 7ms/step - loss: 0.0324 - auc_4: 0.9994 - accuracy: 0.9910 - precision_4: 0.9921 - recall_4: 0.9896 - val_loss: 0.0369 - val_auc_4: 0.9990 - val_accuracy: 0.9908 - val_precision_4: 0.9918 - val_recall_4: 0.9898\n",
            "Epoch 10/30\n",
            "432/432 [==============================] - 2s 5ms/step - loss: 0.0272 - auc_4: 0.9996 - accuracy: 0.9919 - precision_4: 0.9932 - recall_4: 0.9909 - val_loss: 0.0328 - val_auc_4: 0.9991 - val_accuracy: 0.9915 - val_precision_4: 0.9925 - val_recall_4: 0.9915\n",
            "Epoch 11/30\n",
            "432/432 [==============================] - 2s 5ms/step - loss: 0.0259 - auc_4: 0.9995 - accuracy: 0.9926 - precision_4: 0.9936 - recall_4: 0.9916 - val_loss: 0.0316 - val_auc_4: 0.9990 - val_accuracy: 0.9925 - val_precision_4: 0.9932 - val_recall_4: 0.9923\n",
            "Epoch 12/30\n",
            "432/432 [==============================] - 2s 5ms/step - loss: 0.0223 - auc_4: 0.9996 - accuracy: 0.9940 - precision_4: 0.9949 - recall_4: 0.9932 - val_loss: 0.0351 - val_auc_4: 0.9988 - val_accuracy: 0.9917 - val_precision_4: 0.9925 - val_recall_4: 0.9912\n",
            "Epoch 13/30\n",
            "432/432 [==============================] - 2s 6ms/step - loss: 0.0223 - auc_4: 0.9997 - accuracy: 0.9935 - precision_4: 0.9945 - recall_4: 0.9927 - val_loss: 0.0342 - val_auc_4: 0.9991 - val_accuracy: 0.9920 - val_precision_4: 0.9928 - val_recall_4: 0.9912\n",
            "Epoch 14/30\n",
            "432/432 [==============================] - 3s 7ms/step - loss: 0.0216 - auc_4: 0.9997 - accuracy: 0.9936 - precision_4: 0.9945 - recall_4: 0.9931 - val_loss: 0.0311 - val_auc_4: 0.9989 - val_accuracy: 0.9940 - val_precision_4: 0.9947 - val_recall_4: 0.9932\n",
            "Epoch 15/30\n",
            "432/432 [==============================] - 2s 5ms/step - loss: 0.0216 - auc_4: 0.9996 - accuracy: 0.9938 - precision_4: 0.9946 - recall_4: 0.9930 - val_loss: 0.0350 - val_auc_4: 0.9988 - val_accuracy: 0.9918 - val_precision_4: 0.9928 - val_recall_4: 0.9912\n",
            "Epoch 16/30\n",
            "432/432 [==============================] - 2s 5ms/step - loss: 0.0168 - auc_4: 0.9997 - accuracy: 0.9953 - precision_4: 0.9958 - recall_4: 0.9947 - val_loss: 0.0427 - val_auc_4: 0.9987 - val_accuracy: 0.9925 - val_precision_4: 0.9925 - val_recall_4: 0.9923\n",
            "Epoch 17/30\n",
            "432/432 [==============================] - 2s 5ms/step - loss: 0.0162 - auc_4: 0.9997 - accuracy: 0.9954 - precision_4: 0.9959 - recall_4: 0.9949 - val_loss: 0.0468 - val_auc_4: 0.9983 - val_accuracy: 0.9932 - val_precision_4: 0.9933 - val_recall_4: 0.9928\n",
            "Epoch 18/30\n",
            "432/432 [==============================] - 3s 6ms/step - loss: 0.0173 - auc_4: 0.9997 - accuracy: 0.9953 - precision_4: 0.9956 - recall_4: 0.9949 - val_loss: 0.0377 - val_auc_4: 0.9989 - val_accuracy: 0.9917 - val_precision_4: 0.9922 - val_recall_4: 0.9912\n",
            "Epoch 19/30\n",
            "432/432 [==============================] - 3s 7ms/step - loss: 0.0143 - auc_4: 0.9998 - accuracy: 0.9959 - precision_4: 0.9963 - recall_4: 0.9955 - val_loss: 0.0354 - val_auc_4: 0.9988 - val_accuracy: 0.9927 - val_precision_4: 0.9932 - val_recall_4: 0.9918\n",
            "Epoch 20/30\n",
            "432/432 [==============================] - 2s 6ms/step - loss: 0.0156 - auc_4: 0.9998 - accuracy: 0.9956 - precision_4: 0.9960 - recall_4: 0.9952 - val_loss: 0.0374 - val_auc_4: 0.9989 - val_accuracy: 0.9917 - val_precision_4: 0.9920 - val_recall_4: 0.9907\n",
            "Epoch 21/30\n",
            "432/432 [==============================] - 2s 6ms/step - loss: 0.0126 - auc_4: 0.9998 - accuracy: 0.9964 - precision_4: 0.9965 - recall_4: 0.9959 - val_loss: 0.0435 - val_auc_4: 0.9984 - val_accuracy: 0.9922 - val_precision_4: 0.9928 - val_recall_4: 0.9917\n",
            "Epoch 22/30\n",
            "432/432 [==============================] - 2s 5ms/step - loss: 0.0131 - auc_4: 0.9998 - accuracy: 0.9961 - precision_4: 0.9966 - recall_4: 0.9958 - val_loss: 0.0423 - val_auc_4: 0.9986 - val_accuracy: 0.9927 - val_precision_4: 0.9932 - val_recall_4: 0.9927\n",
            "Epoch 23/30\n",
            "432/432 [==============================] - 3s 6ms/step - loss: 0.0158 - auc_4: 0.9997 - accuracy: 0.9954 - precision_4: 0.9959 - recall_4: 0.9950 - val_loss: 0.0399 - val_auc_4: 0.9982 - val_accuracy: 0.9928 - val_precision_4: 0.9932 - val_recall_4: 0.9925\n",
            "Epoch 24/30\n",
            "432/432 [==============================] - 3s 8ms/step - loss: 0.0134 - auc_4: 0.9998 - accuracy: 0.9962 - precision_4: 0.9966 - recall_4: 0.9957 - val_loss: 0.0408 - val_auc_4: 0.9985 - val_accuracy: 0.9928 - val_precision_4: 0.9932 - val_recall_4: 0.9922\n",
            "Epoch 25/30\n",
            "432/432 [==============================] - 2s 6ms/step - loss: 0.0105 - auc_4: 0.9999 - accuracy: 0.9968 - precision_4: 0.9972 - recall_4: 0.9965 - val_loss: 0.0403 - val_auc_4: 0.9988 - val_accuracy: 0.9923 - val_precision_4: 0.9928 - val_recall_4: 0.9920\n",
            "Epoch 26/30\n",
            "432/432 [==============================] - 2s 5ms/step - loss: 0.0117 - auc_4: 0.9998 - accuracy: 0.9967 - precision_4: 0.9971 - recall_4: 0.9964 - val_loss: 0.0427 - val_auc_4: 0.9985 - val_accuracy: 0.9923 - val_precision_4: 0.9928 - val_recall_4: 0.9922\n",
            "Epoch 27/30\n",
            "432/432 [==============================] - 2s 6ms/step - loss: 0.0109 - auc_4: 0.9998 - accuracy: 0.9968 - precision_4: 0.9971 - recall_4: 0.9965 - val_loss: 0.0441 - val_auc_4: 0.9984 - val_accuracy: 0.9927 - val_precision_4: 0.9928 - val_recall_4: 0.9925\n",
            "Epoch 28/30\n",
            "432/432 [==============================] - 3s 6ms/step - loss: 0.0089 - auc_4: 0.9999 - accuracy: 0.9976 - precision_4: 0.9978 - recall_4: 0.9972 - val_loss: 0.0468 - val_auc_4: 0.9986 - val_accuracy: 0.9920 - val_precision_4: 0.9927 - val_recall_4: 0.9915\n",
            "Epoch 29/30\n",
            "432/432 [==============================] - 3s 6ms/step - loss: 0.0119 - auc_4: 0.9998 - accuracy: 0.9968 - precision_4: 0.9971 - recall_4: 0.9963 - val_loss: 0.0382 - val_auc_4: 0.9990 - val_accuracy: 0.9925 - val_precision_4: 0.9928 - val_recall_4: 0.9918\n",
            "Epoch 30/30\n",
            "432/432 [==============================] - 2s 5ms/step - loss: 0.0103 - auc_4: 0.9998 - accuracy: 0.9972 - precision_4: 0.9975 - recall_4: 0.9969 - val_loss: 0.0432 - val_auc_4: 0.9986 - val_accuracy: 0.9915 - val_precision_4: 0.9922 - val_recall_4: 0.9913\n",
            "Score for fold 4: loss of 0.005167272407561541; auc_4 of 99.98713731765747%\n",
            "------------------------------------------------------------------------\n",
            "Training for fold 5 ...\n",
            "Epoch 1/30\n",
            "432/432 [==============================] - 5s 7ms/step - loss: 0.3989 - auc_5: 0.9895 - accuracy: 0.8733 - precision_5: 0.9398 - recall_5: 0.8290 - val_loss: 0.0694 - val_auc_5: 0.9989 - val_accuracy: 0.9797 - val_precision_5: 0.9831 - val_recall_5: 0.9767\n",
            "Epoch 2/30\n",
            "432/432 [==============================] - 3s 7ms/step - loss: 0.1124 - auc_5: 0.9979 - accuracy: 0.9683 - precision_5: 0.9749 - recall_5: 0.9621 - val_loss: 0.0437 - val_auc_5: 0.9995 - val_accuracy: 0.9870 - val_precision_5: 0.9896 - val_recall_5: 0.9845\n",
            "Epoch 3/30\n",
            "432/432 [==============================] - 3s 6ms/step - loss: 0.0816 - auc_5: 0.9986 - accuracy: 0.9772 - precision_5: 0.9816 - recall_5: 0.9727 - val_loss: 0.0362 - val_auc_5: 0.9994 - val_accuracy: 0.9902 - val_precision_5: 0.9920 - val_recall_5: 0.9890\n",
            "Epoch 4/30\n",
            "432/432 [==============================] - 2s 6ms/step - loss: 0.0631 - auc_5: 0.9990 - accuracy: 0.9819 - precision_5: 0.9855 - recall_5: 0.9786 - val_loss: 0.0372 - val_auc_5: 0.9992 - val_accuracy: 0.9897 - val_precision_5: 0.9905 - val_recall_5: 0.9888\n",
            "Epoch 5/30\n",
            "432/432 [==============================] - 2s 5ms/step - loss: 0.0531 - auc_5: 0.9991 - accuracy: 0.9853 - precision_5: 0.9880 - recall_5: 0.9828 - val_loss: 0.0342 - val_auc_5: 0.9991 - val_accuracy: 0.9902 - val_precision_5: 0.9908 - val_recall_5: 0.9893\n",
            "Epoch 6/30\n",
            "432/432 [==============================] - 2s 6ms/step - loss: 0.0478 - auc_5: 0.9992 - accuracy: 0.9867 - precision_5: 0.9890 - recall_5: 0.9846 - val_loss: 0.0299 - val_auc_5: 0.9993 - val_accuracy: 0.9927 - val_precision_5: 0.9933 - val_recall_5: 0.9922\n",
            "Epoch 7/30\n",
            "432/432 [==============================] - 3s 7ms/step - loss: 0.0379 - auc_5: 0.9994 - accuracy: 0.9891 - precision_5: 0.9907 - recall_5: 0.9873 - val_loss: 0.0332 - val_auc_5: 0.9991 - val_accuracy: 0.9917 - val_precision_5: 0.9930 - val_recall_5: 0.9908\n",
            "Epoch 8/30\n",
            "432/432 [==============================] - 3s 6ms/step - loss: 0.0385 - auc_5: 0.9994 - accuracy: 0.9890 - precision_5: 0.9909 - recall_5: 0.9876 - val_loss: 0.0314 - val_auc_5: 0.9991 - val_accuracy: 0.9920 - val_precision_5: 0.9927 - val_recall_5: 0.9915\n",
            "Epoch 9/30\n",
            "432/432 [==============================] - 3s 6ms/step - loss: 0.0308 - auc_5: 0.9995 - accuracy: 0.9911 - precision_5: 0.9925 - recall_5: 0.9898 - val_loss: 0.0355 - val_auc_5: 0.9991 - val_accuracy: 0.9910 - val_precision_5: 0.9918 - val_recall_5: 0.9905\n",
            "Epoch 10/30\n",
            "432/432 [==============================] - 2s 6ms/step - loss: 0.0303 - auc_5: 0.9994 - accuracy: 0.9916 - precision_5: 0.9929 - recall_5: 0.9902 - val_loss: 0.0337 - val_auc_5: 0.9991 - val_accuracy: 0.9915 - val_precision_5: 0.9918 - val_recall_5: 0.9912\n",
            "Epoch 11/30\n",
            "432/432 [==============================] - 3s 6ms/step - loss: 0.0279 - auc_5: 0.9995 - accuracy: 0.9919 - precision_5: 0.9934 - recall_5: 0.9909 - val_loss: 0.0381 - val_auc_5: 0.9989 - val_accuracy: 0.9923 - val_precision_5: 0.9925 - val_recall_5: 0.9917\n",
            "Epoch 12/30\n",
            "432/432 [==============================] - 3s 7ms/step - loss: 0.0245 - auc_5: 0.9996 - accuracy: 0.9930 - precision_5: 0.9940 - recall_5: 0.9919 - val_loss: 0.0331 - val_auc_5: 0.9990 - val_accuracy: 0.9928 - val_precision_5: 0.9930 - val_recall_5: 0.9920\n",
            "Epoch 13/30\n",
            "432/432 [==============================] - 2s 6ms/step - loss: 0.0228 - auc_5: 0.9997 - accuracy: 0.9932 - precision_5: 0.9940 - recall_5: 0.9925 - val_loss: 0.0321 - val_auc_5: 0.9989 - val_accuracy: 0.9937 - val_precision_5: 0.9938 - val_recall_5: 0.9930\n",
            "Epoch 14/30\n",
            "432/432 [==============================] - 2s 6ms/step - loss: 0.0234 - auc_5: 0.9997 - accuracy: 0.9930 - precision_5: 0.9940 - recall_5: 0.9921 - val_loss: 0.0327 - val_auc_5: 0.9990 - val_accuracy: 0.9928 - val_precision_5: 0.9932 - val_recall_5: 0.9922\n",
            "Epoch 15/30\n",
            "432/432 [==============================] - 2s 6ms/step - loss: 0.0190 - auc_5: 0.9996 - accuracy: 0.9946 - precision_5: 0.9954 - recall_5: 0.9939 - val_loss: 0.0341 - val_auc_5: 0.9990 - val_accuracy: 0.9928 - val_precision_5: 0.9937 - val_recall_5: 0.9920\n",
            "Epoch 16/30\n",
            "432/432 [==============================] - 3s 7ms/step - loss: 0.0180 - auc_5: 0.9996 - accuracy: 0.9952 - precision_5: 0.9959 - recall_5: 0.9946 - val_loss: 0.0340 - val_auc_5: 0.9989 - val_accuracy: 0.9932 - val_precision_5: 0.9933 - val_recall_5: 0.9930\n",
            "Epoch 17/30\n",
            "432/432 [==============================] - 3s 7ms/step - loss: 0.0207 - auc_5: 0.9997 - accuracy: 0.9941 - precision_5: 0.9949 - recall_5: 0.9933 - val_loss: 0.0377 - val_auc_5: 0.9985 - val_accuracy: 0.9925 - val_precision_5: 0.9932 - val_recall_5: 0.9923\n",
            "Epoch 18/30\n",
            "432/432 [==============================] - 2s 6ms/step - loss: 0.0188 - auc_5: 0.9997 - accuracy: 0.9946 - precision_5: 0.9952 - recall_5: 0.9938 - val_loss: 0.0371 - val_auc_5: 0.9988 - val_accuracy: 0.9925 - val_precision_5: 0.9935 - val_recall_5: 0.9925\n",
            "Epoch 19/30\n",
            "432/432 [==============================] - 2s 6ms/step - loss: 0.0154 - auc_5: 0.9998 - accuracy: 0.9954 - precision_5: 0.9959 - recall_5: 0.9948 - val_loss: 0.0394 - val_auc_5: 0.9984 - val_accuracy: 0.9932 - val_precision_5: 0.9935 - val_recall_5: 0.9930\n",
            "Epoch 20/30\n",
            "432/432 [==============================] - 2s 6ms/step - loss: 0.0149 - auc_5: 0.9998 - accuracy: 0.9957 - precision_5: 0.9961 - recall_5: 0.9951 - val_loss: 0.0348 - val_auc_5: 0.9989 - val_accuracy: 0.9938 - val_precision_5: 0.9942 - val_recall_5: 0.9935\n",
            "Epoch 21/30\n",
            "432/432 [==============================] - 3s 7ms/step - loss: 0.0141 - auc_5: 0.9997 - accuracy: 0.9959 - precision_5: 0.9963 - recall_5: 0.9956 - val_loss: 0.0457 - val_auc_5: 0.9985 - val_accuracy: 0.9905 - val_precision_5: 0.9908 - val_recall_5: 0.9902\n",
            "Epoch 22/30\n",
            "432/432 [==============================] - 3s 6ms/step - loss: 0.0136 - auc_5: 0.9998 - accuracy: 0.9958 - precision_5: 0.9964 - recall_5: 0.9955 - val_loss: 0.0440 - val_auc_5: 0.9984 - val_accuracy: 0.9915 - val_precision_5: 0.9918 - val_recall_5: 0.9915\n",
            "Epoch 23/30\n",
            "432/432 [==============================] - 2s 6ms/step - loss: 0.0150 - auc_5: 0.9997 - accuracy: 0.9955 - precision_5: 0.9958 - recall_5: 0.9951 - val_loss: 0.0474 - val_auc_5: 0.9984 - val_accuracy: 0.9912 - val_precision_5: 0.9918 - val_recall_5: 0.9908\n",
            "Epoch 24/30\n",
            "432/432 [==============================] - 2s 6ms/step - loss: 0.0142 - auc_5: 0.9998 - accuracy: 0.9960 - precision_5: 0.9963 - recall_5: 0.9956 - val_loss: 0.0403 - val_auc_5: 0.9985 - val_accuracy: 0.9935 - val_precision_5: 0.9940 - val_recall_5: 0.9930\n",
            "Epoch 25/30\n",
            "432/432 [==============================] - 2s 6ms/step - loss: 0.0114 - auc_5: 0.9998 - accuracy: 0.9965 - precision_5: 0.9970 - recall_5: 0.9962 - val_loss: 0.0364 - val_auc_5: 0.9986 - val_accuracy: 0.9928 - val_precision_5: 0.9930 - val_recall_5: 0.9928\n",
            "Epoch 26/30\n",
            "432/432 [==============================] - 3s 7ms/step - loss: 0.0123 - auc_5: 0.9998 - accuracy: 0.9966 - precision_5: 0.9969 - recall_5: 0.9964 - val_loss: 0.0360 - val_auc_5: 0.9989 - val_accuracy: 0.9935 - val_precision_5: 0.9940 - val_recall_5: 0.9935\n",
            "Epoch 27/30\n",
            "432/432 [==============================] - 3s 6ms/step - loss: 0.0117 - auc_5: 0.9998 - accuracy: 0.9966 - precision_5: 0.9969 - recall_5: 0.9964 - val_loss: 0.0348 - val_auc_5: 0.9991 - val_accuracy: 0.9932 - val_precision_5: 0.9935 - val_recall_5: 0.9927\n",
            "Epoch 28/30\n",
            "432/432 [==============================] - 2s 6ms/step - loss: 0.0125 - auc_5: 0.9997 - accuracy: 0.9964 - precision_5: 0.9967 - recall_5: 0.9960 - val_loss: 0.0454 - val_auc_5: 0.9984 - val_accuracy: 0.9912 - val_precision_5: 0.9917 - val_recall_5: 0.9912\n",
            "Epoch 29/30\n",
            "432/432 [==============================] - 2s 6ms/step - loss: 0.0117 - auc_5: 0.9998 - accuracy: 0.9967 - precision_5: 0.9971 - recall_5: 0.9964 - val_loss: 0.0391 - val_auc_5: 0.9986 - val_accuracy: 0.9928 - val_precision_5: 0.9930 - val_recall_5: 0.9928\n",
            "Epoch 30/30\n",
            "432/432 [==============================] - 3s 6ms/step - loss: 0.0089 - auc_5: 0.9999 - accuracy: 0.9974 - precision_5: 0.9975 - recall_5: 0.9972 - val_loss: 0.0397 - val_auc_5: 0.9985 - val_accuracy: 0.9927 - val_precision_5: 0.9932 - val_recall_5: 0.9922\n",
            "Score for fold 5: loss of 0.005909874103963375; auc_5 of 99.98044967651367%\n",
            "------------------------------------------------------------------------\n",
            "Training for fold 6 ...\n",
            "Epoch 1/30\n",
            "432/432 [==============================] - 6s 8ms/step - loss: 0.4267 - auc_6: 0.9881 - accuracy: 0.8608 - precision_6: 0.9343 - recall_6: 0.8141 - val_loss: 0.0608 - val_auc_6: 0.9991 - val_accuracy: 0.9820 - val_precision_6: 0.9847 - val_recall_6: 0.9790\n",
            "Epoch 2/30\n",
            "432/432 [==============================] - 3s 6ms/step - loss: 0.1121 - auc_6: 0.9978 - accuracy: 0.9681 - precision_6: 0.9746 - recall_6: 0.9620 - val_loss: 0.0425 - val_auc_6: 0.9994 - val_accuracy: 0.9878 - val_precision_6: 0.9910 - val_recall_6: 0.9857\n",
            "Epoch 3/30\n",
            "432/432 [==============================] - 2s 6ms/step - loss: 0.0805 - auc_6: 0.9986 - accuracy: 0.9779 - precision_6: 0.9823 - recall_6: 0.9733 - val_loss: 0.0353 - val_auc_6: 0.9993 - val_accuracy: 0.9903 - val_precision_6: 0.9926 - val_recall_6: 0.9897\n",
            "Epoch 4/30\n",
            "432/432 [==============================] - 2s 6ms/step - loss: 0.0620 - auc_6: 0.9989 - accuracy: 0.9825 - precision_6: 0.9858 - recall_6: 0.9795 - val_loss: 0.0370 - val_auc_6: 0.9991 - val_accuracy: 0.9915 - val_precision_6: 0.9927 - val_recall_6: 0.9905\n",
            "Epoch 5/30\n",
            "432/432 [==============================] - 3s 6ms/step - loss: 0.0559 - auc_6: 0.9990 - accuracy: 0.9846 - precision_6: 0.9876 - recall_6: 0.9819 - val_loss: 0.0346 - val_auc_6: 0.9991 - val_accuracy: 0.9920 - val_precision_6: 0.9933 - val_recall_6: 0.9912\n",
            "Epoch 6/30\n",
            "432/432 [==============================] - 3s 7ms/step - loss: 0.0453 - auc_6: 0.9992 - accuracy: 0.9876 - precision_6: 0.9896 - recall_6: 0.9856 - val_loss: 0.0320 - val_auc_6: 0.9991 - val_accuracy: 0.9917 - val_precision_6: 0.9932 - val_recall_6: 0.9913\n",
            "Epoch 7/30\n",
            "432/432 [==============================] - 3s 6ms/step - loss: 0.0397 - auc_6: 0.9994 - accuracy: 0.9889 - precision_6: 0.9905 - recall_6: 0.9870 - val_loss: 0.0316 - val_auc_6: 0.9991 - val_accuracy: 0.9927 - val_precision_6: 0.9935 - val_recall_6: 0.9918\n",
            "Epoch 8/30\n",
            "432/432 [==============================] - 3s 6ms/step - loss: 0.0365 - auc_6: 0.9993 - accuracy: 0.9906 - precision_6: 0.9922 - recall_6: 0.9890 - val_loss: 0.0382 - val_auc_6: 0.9989 - val_accuracy: 0.9913 - val_precision_6: 0.9927 - val_recall_6: 0.9910\n",
            "Epoch 9/30\n",
            "432/432 [==============================] - 3s 6ms/step - loss: 0.0323 - auc_6: 0.9995 - accuracy: 0.9907 - precision_6: 0.9921 - recall_6: 0.9893 - val_loss: 0.0335 - val_auc_6: 0.9989 - val_accuracy: 0.9917 - val_precision_6: 0.9923 - val_recall_6: 0.9908\n",
            "Epoch 10/30\n",
            "432/432 [==============================] - 3s 7ms/step - loss: 0.0283 - auc_6: 0.9996 - accuracy: 0.9919 - precision_6: 0.9929 - recall_6: 0.9907 - val_loss: 0.0385 - val_auc_6: 0.9986 - val_accuracy: 0.9925 - val_precision_6: 0.9928 - val_recall_6: 0.9922\n",
            "Epoch 11/30\n",
            "432/432 [==============================] - 3s 6ms/step - loss: 0.0279 - auc_6: 0.9996 - accuracy: 0.9919 - precision_6: 0.9932 - recall_6: 0.9909 - val_loss: 0.0313 - val_auc_6: 0.9991 - val_accuracy: 0.9945 - val_precision_6: 0.9945 - val_recall_6: 0.9938\n",
            "Epoch 12/30\n",
            "432/432 [==============================] - 3s 6ms/step - loss: 0.0256 - auc_6: 0.9995 - accuracy: 0.9928 - precision_6: 0.9940 - recall_6: 0.9918 - val_loss: 0.0353 - val_auc_6: 0.9989 - val_accuracy: 0.9925 - val_precision_6: 0.9928 - val_recall_6: 0.9918\n",
            "Epoch 13/30\n",
            "432/432 [==============================] - 2s 6ms/step - loss: 0.0242 - auc_6: 0.9995 - accuracy: 0.9931 - precision_6: 0.9942 - recall_6: 0.9922 - val_loss: 0.0419 - val_auc_6: 0.9984 - val_accuracy: 0.9910 - val_precision_6: 0.9912 - val_recall_6: 0.9905\n",
            "Epoch 14/30\n",
            "432/432 [==============================] - 3s 6ms/step - loss: 0.0216 - auc_6: 0.9997 - accuracy: 0.9934 - precision_6: 0.9945 - recall_6: 0.9925 - val_loss: 0.0375 - val_auc_6: 0.9988 - val_accuracy: 0.9922 - val_precision_6: 0.9925 - val_recall_6: 0.9922\n",
            "Epoch 15/30\n",
            "432/432 [==============================] - 3s 7ms/step - loss: 0.0195 - auc_6: 0.9997 - accuracy: 0.9943 - precision_6: 0.9951 - recall_6: 0.9938 - val_loss: 0.0367 - val_auc_6: 0.9989 - val_accuracy: 0.9925 - val_precision_6: 0.9930 - val_recall_6: 0.9925\n",
            "Epoch 16/30\n",
            "432/432 [==============================] - 3s 6ms/step - loss: 0.0202 - auc_6: 0.9997 - accuracy: 0.9944 - precision_6: 0.9951 - recall_6: 0.9938 - val_loss: 0.0317 - val_auc_6: 0.9993 - val_accuracy: 0.9938 - val_precision_6: 0.9942 - val_recall_6: 0.9935\n",
            "Epoch 17/30\n",
            "432/432 [==============================] - 3s 6ms/step - loss: 0.0166 - auc_6: 0.9998 - accuracy: 0.9951 - precision_6: 0.9956 - recall_6: 0.9945 - val_loss: 0.0373 - val_auc_6: 0.9988 - val_accuracy: 0.9932 - val_precision_6: 0.9935 - val_recall_6: 0.9932\n",
            "Epoch 18/30\n",
            "432/432 [==============================] - 3s 6ms/step - loss: 0.0171 - auc_6: 0.9997 - accuracy: 0.9951 - precision_6: 0.9956 - recall_6: 0.9944 - val_loss: 0.0365 - val_auc_6: 0.9989 - val_accuracy: 0.9932 - val_precision_6: 0.9937 - val_recall_6: 0.9928\n",
            "Epoch 19/30\n",
            "432/432 [==============================] - 3s 7ms/step - loss: 0.0168 - auc_6: 0.9997 - accuracy: 0.9951 - precision_6: 0.9958 - recall_6: 0.9945 - val_loss: 0.0358 - val_auc_6: 0.9989 - val_accuracy: 0.9928 - val_precision_6: 0.9935 - val_recall_6: 0.9922\n",
            "Epoch 20/30\n",
            "432/432 [==============================] - 3s 7ms/step - loss: 0.0145 - auc_6: 0.9997 - accuracy: 0.9957 - precision_6: 0.9963 - recall_6: 0.9953 - val_loss: 0.0329 - val_auc_6: 0.9989 - val_accuracy: 0.9938 - val_precision_6: 0.9938 - val_recall_6: 0.9933\n",
            "Epoch 21/30\n",
            "432/432 [==============================] - 3s 6ms/step - loss: 0.0139 - auc_6: 0.9997 - accuracy: 0.9961 - precision_6: 0.9965 - recall_6: 0.9958 - val_loss: 0.0421 - val_auc_6: 0.9983 - val_accuracy: 0.9928 - val_precision_6: 0.9932 - val_recall_6: 0.9928\n",
            "Epoch 22/30\n",
            "432/432 [==============================] - 3s 6ms/step - loss: 0.0144 - auc_6: 0.9998 - accuracy: 0.9959 - precision_6: 0.9963 - recall_6: 0.9955 - val_loss: 0.0413 - val_auc_6: 0.9983 - val_accuracy: 0.9927 - val_precision_6: 0.9932 - val_recall_6: 0.9918\n",
            "Epoch 23/30\n",
            "432/432 [==============================] - 3s 6ms/step - loss: 0.0132 - auc_6: 0.9998 - accuracy: 0.9962 - precision_6: 0.9967 - recall_6: 0.9959 - val_loss: 0.0409 - val_auc_6: 0.9986 - val_accuracy: 0.9925 - val_precision_6: 0.9930 - val_recall_6: 0.9923\n",
            "Epoch 24/30\n",
            "432/432 [==============================] - 3s 8ms/step - loss: 0.0125 - auc_6: 0.9998 - accuracy: 0.9963 - precision_6: 0.9967 - recall_6: 0.9960 - val_loss: 0.0455 - val_auc_6: 0.9984 - val_accuracy: 0.9933 - val_precision_6: 0.9933 - val_recall_6: 0.9928\n",
            "Epoch 25/30\n",
            "432/432 [==============================] - 3s 6ms/step - loss: 0.0126 - auc_6: 0.9998 - accuracy: 0.9964 - precision_6: 0.9969 - recall_6: 0.9959 - val_loss: 0.0322 - val_auc_6: 0.9989 - val_accuracy: 0.9938 - val_precision_6: 0.9942 - val_recall_6: 0.9935\n",
            "Epoch 26/30\n",
            "259/432 [================>.............] - ETA: 0s - loss: 0.0099 - auc_6: 0.9999 - accuracy: 0.9971 - precision_6: 0.9975 - recall_6: 0.9967"
          ]
        }
      ],
      "source": [
        "from keras.layers.attention.multi_head_attention import activation\n",
        "# Define the K-fold Cross Validator\n",
        "kfold = KFold(n_splits=6, shuffle=True)\n",
        "\n",
        "# Define per-fold score containers\n",
        "cnn_acc_per_fold = []\n",
        "cnn_loss_per_fold = []\n",
        "cnn_pre_per_fold = []\n",
        "cnn_rec_per_fold = []\n",
        "cnn_auc_per_fold = []\n",
        "cnn_f1_per_fold = []\n",
        "\n",
        "cnn_acc_per_fold_test = []\n",
        "cnn_loss_per_fold_test = []\n",
        "cnn_pre_per_fold_test = []\n",
        "cnn_rec_per_fold_test = []\n",
        "cnn_auc_per_fold_test = []\n",
        "cnn_f1_per_fold_test = []\n",
        "\n",
        "\n",
        "# K-fold Cross Validation model evaluation\n",
        "fold_no = 1\n",
        "for train, test in kfold.split(x_train, y_train):\n",
        "\n",
        "  # Define the model architecture\n",
        "\n",
        "  model = cnnet()\n",
        "\n",
        "  model.compile(loss=keras.losses.categorical_crossentropy,\\\n",
        "               optimizer='Adam',\\\n",
        "               metrics=[AUC(), \"accuracy\", Precision(), Recall()])\n",
        "\n",
        "  # Generate a print\n",
        "  print('------------------------------------------------------------------------')\n",
        "  print(f'Training for fold {fold_no} ...')\n",
        "\n",
        "  cnn_history = model.fit(x_train, y_train, batch_size=125,\\\n",
        "                     validation_split = 0.1,\\\n",
        "                    #  validation_data = (x_val, y_val),\\\n",
        "                     epochs =30)\n",
        "\n",
        "  # Generate generalization metrics\n",
        "  CNNscores = model.evaluate(x_train[train], y_train[train],verbose = 0)\n",
        "  CNNscores_test = model.evaluate(x_train[test], y_train[test], verbose=0)\n",
        "  print(f'Score for fold {fold_no}: {model.metrics_names[0]} of {CNNscores[0]}; {model.metrics_names[1]} of {CNNscores[1]*100}%')\n",
        "  cnn_acc_per_fold.append(CNNscores[2] * 100)\n",
        "  cnn_loss_per_fold.append(CNNscores[0])\n",
        "  cnn_pre_per_fold.append(CNNscores[3])\n",
        "  cnn_rec_per_fold.append(CNNscores[4])\n",
        "  cnn_auc_per_fold.append(CNNscores[1])\n",
        "  cnn_f1_per_fold.append(F1Score(CNNscores[3],CNNscores[4]))\n",
        "\n",
        "  cnn_acc_per_fold_test.append(CNNscores_test[2] * 100)\n",
        "  cnn_loss_per_fold_test.append(CNNscores_test[0])\n",
        "  cnn_pre_per_fold_test.append(CNNscores_test[3])\n",
        "  cnn_rec_per_fold_test.append(CNNscores_test[4])\n",
        "  cnn_auc_per_fold_test.append(CNNscores_test[1])\n",
        "  cnn_f1_per_fold_test.append(F1Score(CNNscores_test[3],CNNscores_test[4]))\n",
        "\n",
        "  fold_no = fold_no + 1"
      ]
    },
    {
      "cell_type": "code",
      "execution_count": null,
      "metadata": {
        "id": "AzJjKKeE31yb"
      },
      "outputs": [],
      "source": [
        "# == Provide average scores ==\n",
        "print('------------------------------------------------------------------------')\n",
        "print('Score per fold')\n",
        "for i in range(0, len(cnn_acc_per_fold)):\n",
        "  print('------------------------------------------------------------------------')\n",
        "  print(f'> Fold {i+1} - Loss: {cnn_loss_per_fold[i]} - Accuracy: {cnn_acc_per_fold[i]}% - AUC: {cnn_auc_per_fold[i]} -  Precision: {cnn_pre_per_fold[i]} - Recall: {cnn_rec_per_fold[i]} - F1: {cnn_f1_per_fold[i]} -')\n",
        "print('------------------------------------------------------------------------')\n",
        "print('Average scores for all folds:')\n",
        "print(f'> Accuracy: {np.mean(cnn_acc_per_fold)} (+- {np.std(cnn_acc_per_fold)})')\n",
        "print(f'> Loss: {np.mean(cnn_loss_per_fold)}')\n",
        "print('------------------------------------------------------------------------')"
      ]
    },
    {
      "cell_type": "code",
      "execution_count": null,
      "metadata": {
        "id": "-SKfZfL-f9I4"
      },
      "outputs": [],
      "source": [
        "#1st plot the history performance scores\n",
        "plt.figure(figsize=(14,6))\n",
        "plt.plot(cnn_history.history[list(cnn_history.history.keys())[0]])\n",
        "plt.plot(cnn_history.history[list(cnn_history.history.keys())[5]])\n",
        "plt.title('model root_mean_squared_error')\n",
        "plt.ylabel(list(cnn_history.history.keys())[0])\n",
        "plt.xlabel('epoch')\n",
        "plt.legend(['train', 'val'], loc='upper left')\n",
        "plt.show()"
      ]
    },
    {
      "cell_type": "code",
      "execution_count": null,
      "metadata": {
        "id": "Ndu3zHWOLdco"
      },
      "outputs": [],
      "source": [
        "#use the trained model to calculate the outputs for train set\n",
        "y_train_predictedCNN = model.predict(x_train)"
      ]
    },
    {
      "cell_type": "code",
      "execution_count": null,
      "metadata": {
        "colab": {
          "background_save": true
        },
        "id": "xlSPxWZDbzRO",
        "outputId": "7fbe111b-2b9d-47cb-f863-9e900e6d4c82"
      },
      "outputs": [
        {
          "data": {
            "image/png": "[encoded data removed]",
            "text/plain": [
              "<Figure size 1400x600 with 1 Axes>"
            ]
          },
          "metadata": {},
          "output_type": "display_data"
        }
      ],
      "source": [
        "# Plotting the outputs of the predictions in comparison with the actual outputs(NOT distinguishable)\n",
        "y_train_predictedCNN = np.argmax(y_train_predictedCNN, axis=1)\n",
        "plt.figure(figsize=(14,6))\n",
        "plt.plot( y_train, '+', label='original')\n",
        "plt.plot( y_train_predictedCNN, 'x', label='predicted')\n",
        "plt.title('Train set output values')\n",
        "plt.xlabel('input values')\n",
        "plt.ylabel('output values')\n",
        "plt.legend(loc='best')\n",
        "plt.show()"
      ]
    },
    {
      "cell_type": "code",
      "execution_count": null,
      "metadata": {
        "colab": {
          "background_save": true
        },
        "id": "Vliv6ocBV1MV",
        "outputId": "df7e53d2-e044-42fb-fc7d-057bce97946a"
      },
      "outputs": [
        {
          "name": "stdout",
          "output_type": "stream",
          "text": [
            "313/313 [==============================] - 1s 2ms/step\n"
          ]
        }
      ],
      "source": [
        "#use the trained model to calculate the outputs for test set\n",
        "y_test_predictedCNN = model.predict(x_test)"
      ]
    },
    {
      "cell_type": "code",
      "execution_count": null,
      "metadata": {
        "colab": {
          "background_save": true
        },
        "id": "zxEfpBtbV0-z",
        "outputId": "4e7f8815-2f51-40a4-bb6e-dded92af5176"
      },
      "outputs": [
        {
          "data": {
            "image/png": "[encoded data removed]",
            "text/plain": [
              "<Figure size 1400x600 with 1 Axes>"
            ]
          },
          "metadata": {},
          "output_type": "display_data"
        }
      ],
      "source": [
        "# Plotting the outputs of the predictions in comparison with the actual outputs(Again NOT distinguishable)\n",
        "y_test_predictedCNN = np.argmax(y_test_predictedCNN, axis=1)\n",
        "\n",
        "plt.figure(figsize=(14,6))\n",
        "plt.plot( y_test, '+', label='original')\n",
        "plt.plot( y_test_predictedCNN, '.', label='predicted')\n",
        "plt.title('Train set output values')\n",
        "plt.xlabel('input values')\n",
        "plt.ylabel('output values')\n",
        "plt.legend(loc='best')\n",
        "plt.show()"
      ]
    },
    {
      "cell_type": "code",
      "execution_count": null,
      "metadata": {
        "colab": {
          "background_save": true
        },
        "id": "VRBfTHIgBaTm",
        "outputId": "20459b76-1e16-43c8-9b84-95e773338395"
      },
      "outputs": [
        {
          "name": "stdout",
          "output_type": "stream",
          "text": [
            "The scores for the predicted outputs are : accuracy: 0.9990166666666667  recall: 0.9990065413325369 precision: 0.9990185515687019 auc: 0.9994486100782662 f1: 0.9990125464145222\n"
          ]
        }
      ],
      "source": [
        "#predictions on train\n",
        "y_categorical_predict_cnn = to_categorical(y_train_predictedCNN)\n",
        "\n",
        "accuracy = accuracy_score(y_train, y_categorical_predict_cnn)\n",
        "recall = recall_score(y_train, y_categorical_predict_cnn, average='macro')\n",
        "precision = precision_score (y_train, y_categorical_predict_cnn, average='macro')\n",
        "auc = roc_auc_score(y_train, y_categorical_predict_cnn)\n",
        "f1= F1Score(precision, recall)\n",
        "\n",
        "print(\"The scores for the predicted outputs are : accuracy:\", accuracy, \" recall:\", recall, \"precision:\", precision, \"auc:\",auc, \"f1:\", f1 )"
      ]
    },
    {
      "cell_type": "code",
      "execution_count": null,
      "metadata": {
        "colab": {
          "background_save": true
        },
        "id": "LJ8XUU87xXRT",
        "outputId": "58637b18-a0a7-47aa-9158-81106eb31251"
      },
      "outputs": [
        {
          "name": "stdout",
          "output_type": "stream",
          "text": [
            "The scores for the predicted outputs are : accuracy: 0.9924  recall: 0.9923811420730846 precision: 0.9922782318299552 auc: 0.9957690558901904 f1: 0.9990125464145222\n"
          ]
        }
      ],
      "source": [
        "#Predictions on test\n",
        "y_categorical_predict_cnn_test = to_categorical(y_test_predictedCNN)\n",
        "\n",
        "accuracy_cnn_test = accuracy_score(y_test, y_categorical_predict_cnn_test)\n",
        "recall_cnn_test = recall_score(y_test, y_categorical_predict_cnn_test, average='macro')\n",
        "precision_cnn_test = precision_score (y_test, y_categorical_predict_cnn_test, average='macro')\n",
        "auc_cnn_test = roc_auc_score(y_test, y_categorical_predict_cnn_test)\n",
        "f1_cnn_test = F1Score(precision, recall)\n",
        "\n",
        "print(\"The scores for the predicted outputs are : accuracy:\", accuracy_cnn_test, \" recall:\", recall_cnn_test, \"precision:\", precision_cnn_test, \"auc:\",auc_cnn_test, \"f1:\", f1_cnn_test )"
      ]
    },
    {
      "cell_type": "code",
      "execution_count": null,
      "metadata": {
        "colab": {
          "background_save": true
        },
        "id": "0vgspd8N3lKB",
        "outputId": "fc573720-a1c9-4710-c3e5-00a76c958512"
      },
      "outputs": [
        {
          "data": {
            "text/plain": [
              "(10000, 784)"
            ]
          },
          "execution_count": 24,
          "metadata": {},
          "output_type": "execute_result"
        }
      ],
      "source": [
        "#el Deep network\n",
        "# Reshaping the data to match the expected inputs of the Dense layers(Trust el plan).\n",
        "x_train_reshaped = x_train.reshape(60000, x_train.shape[1]*x_train.shape[2])\n",
        "x_train_reshaped.shape\n",
        "x_test_reshaped = x_test.reshape(10000, x_test.shape[1]*x_test.shape[2])\n",
        "x_test_reshaped.shape"
      ]
    },
    {
      "cell_type": "code",
      "execution_count": null,
      "metadata": {
        "id": "31ygmwnYOKR5"
      },
      "outputs": [],
      "source": [
        "# Define the K-fold Cross Validator\n",
        "kfold = KFold(n_splits=6, shuffle=True)\n",
        "\n",
        "# Define per-fold score containers\n",
        "dnn_acc_per_fold = []\n",
        "dnn_loss_per_fold = []\n",
        "dnn_pre_per_fold = []\n",
        "dnn_rec_per_fold = []\n",
        "dnn_auc_per_fold = []\n",
        "dnn_f1_per_fold = []\n",
        "\n",
        "dnn_acc_per_fold_test = []\n",
        "dnn_loss_per_fold_test = []\n",
        "dnn_pre_per_fold_test = []\n",
        "dnn_rec_per_fold_test = []\n",
        "dnn_auc_per_fold_test = []\n",
        "dnn_f1_per_fold_test = []\n",
        "\n",
        "# K-fold Cross Validation model evaluation\n",
        "fold_no = 1\n",
        "for train, test in kfold.split(x_train, y_train):\n",
        "  print('------------------------------------------------------------------------')\n",
        "  print(f'Training for fold {fold_no} ...')\n",
        "\n",
        "  CustomModel = model_generator()\n",
        "  CustomModel.compile(optimizer='adam', loss=keras.losses.CategoricalCrossentropy(),\\\n",
        "                      metrics=[AUC(), \"accuracy\", Precision(), Recall()])\n",
        "\n",
        "  historyDNN = CustomModel.fit(x_train_reshaped, y_train, batch_size=100,\\\n",
        "                     validation_split = 0.1,\\\n",
        "                    #  validation_data = (x_val, y_val),\\\n",
        "                     epochs =32)\n",
        "\n",
        "  # Generate generalization metrics\n",
        "  scoresDNN = CustomModel.evaluate(x_train_reshaped[train], y_train[train],verbose = 0)\n",
        "  scoresDNN_test = CustomModel.evaluate(x_train_reshaped[test], y_train[test], verbose=0)\n",
        "  print(f'Score for fold {fold_no}: {CustomModel.metrics_names[0]} of {scoresDNN[0]}; {CustomModel.metrics_names[1]} of {scoresDNN[1]*100}%')\n",
        "  dnn_acc_per_fold.append(scoresDNN[2] * 100)\n",
        "  dnn_loss_per_fold.append(scoresDNN[0])\n",
        "  dnn_pre_per_fold.append(scoresDNN[3 ])\n",
        "  dnn_rec_per_fold.append(scoresDNN[4])\n",
        "  dnn_auc_per_fold.append(scoresDNN[1])\n",
        "  dnn_f1_per_fold.append(F1Score(scoresDNN[3],scoresDNN[4]))\n",
        "\n",
        "  cnn_acc_per_fold_test.append(scoresDNN_test[2] * 100)\n",
        "  cnn_loss_per_fold_test.append(scoresDNN_test[0])\n",
        "  cnn_pre_per_fold_test.append(scoresDNN_test[3])\n",
        "  cnn_rec_per_fold_test.append(scoresDNN_test[4])\n",
        "  cnn_auc_per_fold_test.append(scoresDNN_test[1])\n",
        "  cnn_f1_per_fold_test.append(F1Score(scoresDNN_test[3],scoresDNN_test[4]))\n",
        "\n",
        "  fold_no = fold_no + 1"
      ]
    },
    {
      "cell_type": "code",
      "execution_count": null,
      "metadata": {
        "id": "QP3ZLn6b8kuY"
      },
      "outputs": [],
      "source": [
        "###use the trained model to calculate the outputs for train set\n",
        "y_train_predictedDNN = model.predict(x_train)"
      ]
    },
    {
      "cell_type": "code",
      "execution_count": null,
      "metadata": {
        "id": "rYG5m12v9P-A"
      },
      "outputs": [],
      "source": [
        "from keras.utils import to_categorical\n",
        "from sklearn.metrics import accuracy_score\n",
        "from sklearn.metrics import recall_score\n",
        "from sklearn.metrics import precision_score\n",
        "from sklearn.metrics import roc_auc_score\n",
        "\n",
        "#predictions on train\n",
        "y_categorical_predict_dnn = to_categorical(y_train_predictedDNN)\n",
        "#metrics for the trainingset\n",
        "accuracy_dnn = accuracy_score(y_train, y_categorical_predict_dnn)\n",
        "recall_dnn = recall_score(y_train, y_categorical_predict_dnn, average='macro')\n",
        "precision_dnn = precision_score (y_train, y_categorical_predict_dnn, average='macro')\n",
        "auc_dnn = roc_auc_score(y_train, y_categorical_predict_dnn)\n",
        "f1_dnn= F1Score(precision, recall)\n",
        "\n",
        "print(\"The scores for the predicted outputs are : accuracy:\", accuracy_dnn, \" recall:\", recall_dnn, \"precision:\", precision_dnn, \"auc:\",auc_dnn, \"f1:\", f1_dnn )"
      ]
    },
    {
      "cell_type": "code",
      "execution_count": null,
      "metadata": {
        "id": "97nuV7Ap9P55"
      },
      "outputs": [],
      "source": [
        "###use the trained model to calculate the outputs for train set\n",
        "y_test_predictedDNN = model.predict(x_test)"
      ]
    },
    {
      "cell_type": "code",
      "execution_count": null,
      "metadata": {
        "id": "jR_kC6OW_HMl"
      },
      "outputs": [],
      "source": [
        "#predictions on test\n",
        "y_categorical_predict_dnn = to_categorical(y_test_predictedDNN)\n",
        "#metrics for the trainingset\n",
        "accuracy_dnn_test = accuracy_score(y_train, y_categorical_predict_dnn)\n",
        "recall_dnn_test = recall_score(y_train, y_categorical_predict_dnn, average='macro')\n",
        "precision_dnn_test = precision_score (y_train, y_categorical_predict_dnn, average='macro')\n",
        "auc_dnn_test = roc_auc_score(y_train, y_categorical_predict_dnn)\n",
        "f1_dnn_test = F1Score(precision, recall)\n",
        "\n",
        "print(\"The scores for the predicted outputs are : accuracy:\", accuracy_dnn_test, \" recall:\", recall_dnn_test, \"precision:\", precision_dnn_test, \"auc:\",auc_dnn_test, \"f1:\", f1_dnn_test )"
      ]
    },
    {
      "cell_type": "code",
      "execution_count": null,
      "metadata": {
        "id": "aM2fophe2KsW"
      },
      "outputs": [],
      "source": [
        "# preparing the arrays for the dataframe\n",
        "results_acc = []\n",
        "results_pre = []\n",
        "results_rec = []\n",
        "results_f1 = []\n",
        "techniques = []\n",
        "Set = []\n",
        "fold = []"
      ]
    },
    {
      "cell_type": "code",
      "execution_count": null,
      "metadata": {
        "id": "gphnOpXBdVvZ"
      },
      "outputs": [],
      "source": [
        "# -------------------------------------------------------------|\n",
        "#----------------- ONLY FOR TESTING THE CODE ------------------|\n",
        "# -------------------------------------------------------------|\n",
        "\n",
        "# results_acc.clear()\n",
        "# results_pre.clear()\n",
        "# results_rec.clear()\n",
        "# results_f1.clear()\n",
        "# techniques.clear()\n",
        "# Set.clear()\n",
        "# fold.clear()"
      ]
    },
    {
      "cell_type": "code",
      "execution_count": null,
      "metadata": {
        "id": "UnWkg2G3M4QD"
      },
      "outputs": [],
      "source": [
        "# for loops to group the metrics (Ultra junky code)\n",
        "for i in range(fold_no-1):\n",
        "  results_acc.append(dnn_acc_per_fold[i])\n",
        "  results_pre.append(dnn_pre_per_fold[i])\n",
        "  results_rec.append(dnn_rec_per_fold[i])\n",
        "  results_f1.append(dnn_f1_per_fold[i])\n",
        "  techniques.append('DNN')\n",
        "  Set.append('train')\n",
        "  fold.append(i)\n",
        "  results_acc.append(cnn_acc_per_fold_test[i])\n",
        "  results_pre.append(cnn_pre_per_fold_test[i])\n",
        "  results_rec.append(cnn_rec_per_fold_test[i])\n",
        "  results_f1.append(cnn_f1_per_fold_test[i])\n",
        "  techniques.append('DNN')\n",
        "  Set.append('test')\n",
        "  fold.append(i)\n",
        "\n",
        "for i in range(fold_no-1):\n",
        "  results_acc.append(cnn_acc_per_fold[i])\n",
        "  results_pre.append(cnn_pre_per_fold[i])\n",
        "  results_rec.append(cnn_rec_per_fold[i])\n",
        "  results_f1.append(cnn_f1_per_fold[i])\n",
        "  techniques.append('CNN')\n",
        "  Set.append('train')\n",
        "  fold.append(i)\n",
        "  results_acc.append(cnn_acc_per_fold_test[i])\n",
        "  results_pre.append(cnn_pre_per_fold_test[i])\n",
        "  results_rec.append(cnn_rec_per_fold_test[i])\n",
        "  results_f1.append(cnn_f1_per_fold_test[i])\n",
        "  techniques.append('CNN')\n",
        "  Set.append('test')\n",
        "  fold.append(i)"
      ]
    },
    {
      "cell_type": "code",
      "execution_count": null,
      "metadata": {
        "id": "41J7M40LQvA4"
      },
      "outputs": [],
      "source": [
        "# CustomModel.evaluate(x_test_reshaped, y_test)"
      ]
    },
    {
      "cell_type": "code",
      "execution_count": null,
      "metadata": {
        "id": "3MJaAsL8ugPw"
      },
      "outputs": [],
      "source": [
        "# == Provide average scores ==\n",
        "print('------------------------------------------------------------------------')\n",
        "print('Score per fold')\n",
        "for i in range(0, len(dnn_acc_per_fold)):\n",
        "  print('------------------------------------------------------------------------')\n",
        "  print(f'> Fold {i+1} - Loss: {dnn_loss_per_fold[i]} - Accuracy: {dnn_acc_per_fold[i]}%')\n",
        "print('------------------------------------------------------------------------')\n",
        "print('Average scores for all folds:')\n",
        "print(f'> Accuracy: {np.mean(dnn_acc_per_fold)} (+- {np.std(dnn_acc_per_fold)})')\n",
        "print(f'> Loss: {np.mean(dnn_loss_per_fold)}')\n",
        "print('------------------------------------------------------------------------')"
      ]
    },
    {
      "cell_type": "code",
      "execution_count": null,
      "metadata": {
        "id": "T91EgCMWmBwy"
      },
      "outputs": [],
      "source": [
        "#use the trained model to calculate the outputs for train set\n",
        "y_train_predictedDNN = CustomModel.predict(x_train_reshaped)"
      ]
    },
    {
      "cell_type": "code",
      "execution_count": null,
      "metadata": {
        "id": "d0cbNNuZmioK"
      },
      "outputs": [],
      "source": [
        "#  Plotting the outputs of the predictions in comparison with the actual outputs(Once again NOT distinguishable)\n",
        "y_train_predictedDNN = np.argmax(y_train_predictedDNN, axis=1)\n",
        "plt.figure(figsize=(14,6))\n",
        "plt.plot( y_train, '+', label='original')\n",
        "plt.plot( y_train_predictedDNN, 'x', label='predicted')\n",
        "plt.title('Train set output values')\n",
        "plt.xlabel('input values')\n",
        "plt.ylabel('output values')\n",
        "plt.legend(loc='best')\n",
        "plt.show()"
      ]
    },
    {
      "cell_type": "code",
      "execution_count": null,
      "metadata": {
        "id": "wnO3PQqgm5Y_"
      },
      "outputs": [],
      "source": [
        "#use the trained model to calculate the outputs for test set\n",
        "y_test_predictedDNN = CustomModel.predict(x_test_reshaped)"
      ]
    },
    {
      "cell_type": "code",
      "execution_count": null,
      "metadata": {
        "id": "HU5KcII1nbie"
      },
      "outputs": [],
      "source": [
        "#  Plotting the outputs of the predictions in comparison with the actual outputs(One last time... NOT distinguishable)\n",
        "y_test_predictedDNN = np.argmax(y_test_predictedDNN, axis=1)\n",
        "plt.figure(figsize=(14,6))\n",
        "plt.plot( y_test, '+', label='original')\n",
        "plt.plot( y_test_predictedDNN, 'x', label='predicted')\n",
        "plt.title('Train set output values')\n",
        "plt.xlabel('input values')\n",
        "plt.ylabel('output values')\n",
        "plt.legend(loc='best')\n",
        "plt.show()"
      ]
    },
    {
      "cell_type": "code",
      "execution_count": null,
      "metadata": {
        "id": "8FSPPgMvR_3t"
      },
      "outputs": [],
      "source": [
        "# Creating the dataset\n",
        "dict = {'Technique name [DNN/CNN]':techniques,'Set [Train/Test]':Set,\\\n",
        "        'Fold number [1, .., 6]':fold,'Accuracy':results_acc,\\\n",
        "        'Precision':results_pre,'Recall':results_rec,'F1 score':results_f1}\n",
        "dfNew = pd.DataFrame(dict)"
      ]
    },
    {
      "cell_type": "code",
      "execution_count": null,
      "metadata": {
        "id": "3lJNmtDRTgXZ"
      },
      "outputs": [],
      "source": [
        "# Drive mounting to save the dict\n",
        "from google.colab import drive\n",
        "drive.mount('/content/drive')"
      ]
    },
    {
      "cell_type": "code",
      "execution_count": null,
      "metadata": {
        "id": "4WyzNYi0TfKk"
      },
      "outputs": [],
      "source": [
        "# The dataframe salvation\n",
        "path = '/content/drive/My Drive/erotima1.csv'\n",
        "with open(path, 'w', encoding = 'utf-8-sig') as f:\n",
        "  dfNew.to_csv(f, index = False)"
      ]
    },
    {
      "cell_type": "code",
      "execution_count": null,
      "metadata": {
        "id": "bkq7tTqhGrHZ"
      },
      "outputs": [],
      "source": [
        "# Saving the models to use later\n",
        "model.save('cnn.h5')\n",
        "CustomModel.save('dnn.h5')"
      ]
    }
  ],
  "metadata": {
    "accelerator": "GPU",
    "colab": {
      "provenance": [],
      "include_colab_link": true
    },
    "gpuClass": "standard",
    "kernelspec": {
      "display_name": "Python 3",
      "name": "python3"
    },
    "language_info": {
      "name": "python"
    }
  },
  "nbformat": 4,
  "nbformat_minor": 0
}